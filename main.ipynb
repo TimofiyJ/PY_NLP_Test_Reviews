{
 "cells": [
  {
   "cell_type": "code",
   "execution_count": 39,
   "metadata": {},
   "outputs": [],
   "source": [
    "import pandas as pd # dataframes and csv\n",
    "import numpy as np # linear algebra\n",
    "import sklearn as sk # data maniputation\n",
    "import matplotlib.pyplot as plt # data visualization\n",
    "import re # regular expressions for the text\n",
    "import tensorflow as tf # for ML\n",
    "\n",
    "\n",
    "from sklearn.model_selection import train_test_split\n",
    "from tensorflow.keras.preprocessing.text import Tokenizer\n",
    "from tensorflow.keras.preprocessing.sequence import pad_sequences\n",
    "from transformers import BertTokenizer\n",
    "from tokenizers import SentencePieceBPETokenizer\n",
    "#from tensorflow_text.tools.wordpiece_vocab import bert_vocab_from_dataset as bert_vocab"
   ]
  },
  {
   "cell_type": "code",
   "execution_count": 40,
   "metadata": {},
   "outputs": [
    {
     "name": "stdout",
     "output_type": "stream",
     "text": [
      "                                                  text sentiment\n",
      "0    Hi Leah, I ordered this early to give to a co-...  Positive\n",
      "1    Good evening, \\n  I just received my order! I ...  Positive\n",
      "2    I couldn’t find where I could write a review b...  Positive\n",
      "3    I received my order today and gave it to my si...  Positive\n",
      "4    ﻿Max,\\n\\nWe received the heart but sadly are d...  Negative\n",
      "..                                                 ...       ...\n",
      "249    Thank you, this is beautiful and they loved it.  Positive\n",
      "250                    Thanks so much. They lookgreat!  Positive\n",
      "251  Emily, \\n  THANK YOU so much for the new “bric...  Positive\n",
      "252  Jacqueline,  \\n  I just received the replaceme...  Positive\n",
      "253  Order #(857)982-509708\\nI just received my ord...  Positive\n",
      "\n",
      "[254 rows x 2 columns]\n"
     ]
    },
    {
     "data": {
      "image/png": "[encoded data removed]",
      "text/plain": [
       "<Figure size 640x480 with 1 Axes>"
      ]
     },
     "metadata": {},
     "output_type": "display_data"
    }
   ],
   "source": [
    "#downloading data\n",
    "labels = pd.read_csv(\"./data/labels.csv\")\n",
    "reviews = pd.read_csv(\"./data/reviews.csv\")\n",
    "\n",
    "#making it more generalized(easy to work with)\n",
    "reviews = reviews.merge(labels,\"outer\",\"id\")\n",
    "dataset = reviews.drop(labels = \"id\",axis=1)\n",
    "print(dataset)\n",
    "\n",
    "dataset[\"sentiment\"].value_counts().plot(kind='bar', title='Classes distribution')\n",
    "count_positive = len([i for i in dataset[\"sentiment\"] if i==\"Positive\"])\n",
    "count_negative = len([i for i in dataset[\"sentiment\"] if i==\"Negative\"])\n",
    "plt.text(0,count_positive,str(count_positive))\n",
    "plt.text(1,count_negative,str(count_negative))\n",
    "plt.show()"
   ]
  },
  {
   "cell_type": "markdown",
   "metadata": {},
   "source": [
    "Negative to Positive ratio is okay. No need to fix training and testing datasets manualy"
   ]
  },
  {
   "cell_type": "code",
   "execution_count": 41,
   "metadata": {},
   "outputs": [
    {
     "name": "stdout",
     "output_type": "stream",
     "text": [
      "266\n",
      "Mr. Lans, \n",
      "  Thank you for this email and the opportunity to let you know about the finished product that I received yesterday. My husband Christopher, helped me order this item gift for a good friend who lost her daughter Kimberly. I’ve ordered these 3D products before with wonderful results, but I’m wondering now if maybe it was from a different company because I must tell you I was VERY disappointed with the end result of this one. It’s very hard to see exactly what the finished product is going to look like on a computer screen, so thought choosing the heart design would work. But it didn’t at all. The bottom of the heart looks like it’s making a “dent” in the top of Kimberly’s head. So there is no way I could possibility send this to my friend. I think your system should be able to advise you if the image submitted would not be a good fit and allow you to either choose a different item or perhaps suggest you selected a larger size heart. If given the choice, (for only $20 more) I could have chosen the large item “brick” which would have looked much better. I was also surprised at how small the “medium” heart was and the $60 jump in cost for the large size.   \n",
      "  So with all this being said, I’d like to know what my options are and if it’s possible to return this item for a full refund OR perhaps a reorder of something else.   \n",
      "  Thanks for your help.  \n",
      "  Pamela Peterson;  \n",
      "  \n",
      "\n",
      " Sent from my iPad  \n",
      "Begin forwarded message:\n",
      "2488\n",
      "AVG LENGTH: 303.0\n"
     ]
    }
   ],
   "source": [
    "#Finding the vocab size\n",
    "words = []\n",
    "max_length = []\n",
    "\n",
    "for i in dataset[\"text\"]:\n",
    "    i = re.split(r'[,\\s!?()._\\-]+', i)\n",
    "    i = [j for j in i if j is not None and j!=\"\"]\n",
    "    max_length.append(len(i))\n",
    "    for j in i:\n",
    "\n",
    "        words.append(j)\n",
    "words = list(set(words))\n",
    "max_length_num=max(max_length)\n",
    "print(max(max_length))\n",
    "print(dataset[\"text\"][max_length.index(max(max_length))])\n",
    "print(len(words))\n",
    "print(\"AVG LENGTH: \" + str(np.array([len(i) for i in dataset[\"text\"]]).mean()))"
   ]
  },
  {
   "cell_type": "markdown",
   "metadata": {},
   "source": [
    "The data is generalized and explored. Splitted correctly. No need of punctuation"
   ]
  },
  {
   "cell_type": "markdown",
   "metadata": {},
   "source": [
    "Splitting training and testing data. Replace \"Positive\" and \"Negative\" with 1 and 0"
   ]
  },
  {
   "cell_type": "code",
   "execution_count": 42,
   "metadata": {},
   "outputs": [],
   "source": [
    "train, test = train_test_split(dataset, test_size=0.2, random_state=42, shuffle=True)\n",
    "\n",
    "training_sentences = []\n",
    "training_labels = []\n",
    "\n",
    "testing_sentences = []\n",
    "testing_labels = []\n",
    "\n",
    "# Loop over all training examples and save the sentences and labels\n",
    "for t in train[\"text\"]:\n",
    "  training_sentences.append(t)\n",
    "\n",
    "for s in train[\"sentiment\"]:\n",
    "  if s == \"Positive\": # Redo the labels so the processing is faster \n",
    "    training_labels.append(1)\n",
    "  else:\n",
    "    training_labels.append(0)\n",
    "\n",
    "# Loop over all test examples and save the sentences and labels\n",
    "for t in test[\"text\"]:\n",
    "  testing_sentences.append(t)\n",
    "\n",
    "for s in test[\"sentiment\"]:\n",
    "  if s == \"Positive\": # Redo the labels so the processing is faster \n",
    "    testing_labels.append(1)\n",
    "  else:\n",
    "    testing_labels.append(0)\n",
    "\n",
    "# Convert labels lists to numpy array\n",
    "training_labels_final = np.array(training_labels)\n",
    "testing_labels_final = np.array(testing_labels)\n",
    "\n"
   ]
  },
  {
   "cell_type": "markdown",
   "metadata": {},
   "source": [
    "Tokenizing and adding to separate list"
   ]
  },
  {
   "cell_type": "code",
   "execution_count": 43,
   "metadata": {},
   "outputs": [],
   "source": [
    "sentences = []\n",
    "pattern = r'[,\\s!?()._\\-]+'\n",
    "for sentence in dataset[\"text\"]:\n",
    "    sentence = sentence.lower()\n",
    "    sentence = re.split(pattern, sentence) # Split the text based on the pattern\n",
    "    sentence = \" \".join(sentence)\n",
    "    sentences.append(sentence)"
   ]
  },
  {
   "cell_type": "markdown",
   "metadata": {},
   "source": [
    "BERT Tokenizer (tried to use and I decided not to choose this one)"
   ]
  },
  {
   "cell_type": "code",
   "execution_count": 150,
   "metadata": {},
   "outputs": [
    {
     "name": "stdout",
     "output_type": "stream",
     "text": [
      "{'input_ids': <tf.Tensor: shape=(254, 299), dtype=int32, numpy=\n",
      "array([[  101,  7632, 14188, ...,     0,     0,     0],\n",
      "       [  101,  2204,  3944, ...,     0,     0,     0],\n",
      "       [  101,  1045,  2481, ...,     0,     0,     0],\n",
      "       ...,\n",
      "       [  101,  6253,  4067, ...,     0,     0,     0],\n",
      "       [  101, 17551,  1045, ...,     0,     0,     0],\n",
      "       [  101,  2344,  1001, ...,     0,     0,     0]])>, 'token_type_ids': <tf.Tensor: shape=(254, 299), dtype=int32, numpy=\n",
      "array([[0, 0, 0, ..., 0, 0, 0],\n",
      "       [0, 0, 0, ..., 0, 0, 0],\n",
      "       [0, 0, 0, ..., 0, 0, 0],\n",
      "       ...,\n",
      "       [0, 0, 0, ..., 0, 0, 0],\n",
      "       [0, 0, 0, ..., 0, 0, 0],\n",
      "       [0, 0, 0, ..., 0, 0, 0]])>, 'attention_mask': <tf.Tensor: shape=(254, 299), dtype=int32, numpy=\n",
      "array([[1, 1, 1, ..., 0, 0, 0],\n",
      "       [1, 1, 1, ..., 0, 0, 0],\n",
      "       [1, 1, 1, ..., 0, 0, 0],\n",
      "       ...,\n",
      "       [1, 1, 1, ..., 0, 0, 0],\n",
      "       [1, 1, 1, ..., 0, 0, 0],\n",
      "       [1, 1, 1, ..., 0, 0, 0]])>}\n"
     ]
    }
   ],
   "source": [
    "tokenizer_bert = BertTokenizer.from_pretrained(\"bert-base-uncased\")\n",
    "tokenized_sentences = tokenizer_bert(sentences,padding=True, truncation='only_first', return_tensors=\"tf\")\n",
    "print(tokenized_sentences)"
   ]
  },
  {
   "cell_type": "markdown",
   "metadata": {},
   "source": [
    "SentencePieceBPETokenizer. This one is used in tokenizing the sentences"
   ]
  },
  {
   "cell_type": "code",
   "execution_count": 155,
   "metadata": {},
   "outputs": [
    {
     "name": "stdout",
     "output_type": "stream",
     "text": [
      "[[   0    0    0 ...  156  852  180]\n",
      " [   0    0    0 ...  355  134  287]\n",
      " [   0    0    0 ...  186  127  724]\n",
      " ...\n",
      " [   0    0    0 ...  186  127  724]\n",
      " [   0    0    0 ...  814  443   80]\n",
      " [   0    0    0 ...  119 1146 1841]]\n",
      "246\n"
     ]
    }
   ],
   "source": [
    "with open(\"text.txt\", \"w\", encoding=\"utf-8\") as f:\n",
    "    for sentence in sentences:\n",
    "        f.write(sentence+\"\\n\")\n",
    "    f.close()\n",
    "\n",
    "vocab_size = 10000\n",
    "trunc_type='pre'\n",
    "oov_tok = \"<OOV>\"\n",
    "\n",
    "BPE_sentence_tokenizer = SentencePieceBPETokenizer()\n",
    "BPE_sentence_tokenizer.train(\"text.txt\",vocab_size=vocab_size)\n",
    "\n",
    "encoded_texts = [BPE_sentence_tokenizer.encode(text).ids for text in sentences]\n",
    "# Pad the sequences to a consistent length\n",
    "X = pad_sequences(encoded_texts, maxlen=max_length_num, padding='pre')\n",
    "print(X)\n",
    "label_mapping = {\"Positive\": 1, \"Negative\": 0}\n",
    "encoded_labels = [label_mapping[label] for label in dataset[\"sentiment\"]]\n",
    "y = np.array(encoded_labels)\n",
    "\n",
    "# Split your data into training and validation sets\n",
    "X_train, X_val, y_train, y_val = train_test_split(X, y, test_size=0.2, random_state=42)\n",
    "\n",
    "word_to_find = \"disappointed\"\n",
    "# Encode the word to get its ID\n",
    "encoded_word = BPE_sentence_tokenizer.encode(word_to_find)\n",
    "word_id = encoded_word.ids[0]\n",
    "print(word_id)"
   ]
  },
  {
   "cell_type": "markdown",
   "metadata": {},
   "source": [
    "TF tokenizer. (used before the idea about subwords)"
   ]
  },
  {
   "cell_type": "code",
   "execution_count": 77,
   "metadata": {},
   "outputs": [
    {
     "name": "stdout",
     "output_type": "stream",
     "text": [
      "number of words in word_index: 1898\n",
      "[[  0   0   0 ...  43  14   8]\n",
      " [  0   0   0 ...   4 202 792]\n",
      " [  0   0   0 ... 799 182  94]\n",
      " ...\n",
      " [  0   0   0 ...  24   7  50]\n",
      " [  0   0   0 ... 153   1   1]\n",
      " [  0   0   0 ...   3 114   1]]\n",
      "[1 1 1 1 1 0 0 1 0 1 1 0 0 1 0 1 1 0 1 1 0 0 1 0 1 1 1 1 1 1 1 0 1 0 0 1 1\n",
      " 1 0 1 1 0 0 1 0 1 1 1 0 1 0 0 1 0 0 0 0 1 1 1 1 1 1 1 1 1 0 0 1 1 1 1 0 0\n",
      " 0 0 1 0 1 0 0 0 0 0 0 0 1 1 1 0 1 1 1 1 0 1 0 0 0 0 0 1 1 1 0 1 1 1 0 0 0\n",
      " 1 1 0 0 1 0 1 1 1 0 1 1 0 0 0 1 0 0 1 1 1 1 1 0 0 1 0 1 0 1 1 1 1 1 1 1 1\n",
      " 1 1 1 1 0 1 1 0 1 1 0 0 0 0 1 1 1 0 0 1 1 0 0 1 0 1 0 1 1 0 1 1 1 1 0 0 0\n",
      " 0 0 1 0 0 1 0 1 1 1 1 0 1 1 0 1 1 0]\n"
     ]
    }
   ],
   "source": [
    "# Parameters\n",
    "\n",
    "# Initialize the Tokenizer class\n",
    "tokenizer = Tokenizer(num_words = vocab_size, oov_token=oov_tok)\n",
    "\n",
    "# Generate the word index dictionary for the training sentences\n",
    "tokenizer.fit_on_texts(training_sentences)\n",
    "word_index = tokenizer.word_index\n",
    "print(f'number of words in word_index: {len(word_index)}')\n",
    "\n",
    "\n",
    "# Generate and pad the training sequences\n",
    "sequences = tokenizer.texts_to_sequences(training_sentences)\n",
    "padded = pad_sequences(sequences, truncating=trunc_type)\n",
    "print(padded)\n",
    "\n",
    "# Generate and pad the test sequences\n",
    "testing_sequences = tokenizer.texts_to_sequences(testing_sentences)\n",
    "testing_padded = pad_sequences(testing_sequences)\n",
    "print(training_labels_final)"
   ]
  },
  {
   "cell_type": "code",
   "execution_count": 200,
   "metadata": {},
   "outputs": [],
   "source": [
    "# Plot Utility\n",
    "def plot_graphs(history, string):\n",
    "  plt.plot(history.history[string])\n",
    "  plt.plot(history.history['val_'+string])\n",
    "  plt.xlabel(\"Epochs\")\n",
    "  plt.ylabel(string)\n",
    "  plt.legend([string, 'val_'+string])\n",
    "  plt.show()"
   ]
  },
  {
   "cell_type": "code",
   "execution_count": 221,
   "metadata": {},
   "outputs": [
    {
     "name": "stdout",
     "output_type": "stream",
     "text": [
      "Model: \"sequential_37\"\n",
      "_________________________________________________________________\n",
      " Layer (type)                Output Shape              Param #   \n",
      "=================================================================\n",
      " embedding_37 (Embedding)    (None, None, 8)           80000     \n",
      "                                                                 \n",
      " conv1d_37 (Conv1D)          (None, None, 32)          2080      \n",
      "                                                                 \n",
      " bidirectional_37 (Bidirect  (None, 32)                6272      \n",
      " ional)                                                          \n",
      "                                                                 \n",
      " dropout_38 (Dropout)        (None, 32)                0         \n",
      "                                                                 \n",
      " dense_89 (Dense)            (None, 16)                528       \n",
      "                                                                 \n",
      " dense_90 (Dense)            (None, 6)                 102       \n",
      "                                                                 \n",
      " dense_91 (Dense)            (None, 1)                 7         \n",
      "                                                                 \n",
      "=================================================================\n",
      "Total params: 88989 (347.61 KB)\n",
      "Trainable params: 88989 (347.61 KB)\n",
      "Non-trainable params: 0 (0.00 Byte)\n",
      "_________________________________________________________________\n"
     ]
    }
   ],
   "source": [
    "#Parameters\n",
    "embedding_dim = 8\n",
    "lstm_dim = 16\n",
    "filters = 32\n",
    "kernel_size = 8\n",
    "dense_dim = 16\n",
    "\n",
    "# Model Definition with LSTM\n",
    "model_lstm = tf.keras.Sequential([\n",
    "    tf.keras.layers.Embedding(vocab_size, embedding_dim),\n",
    "    tf.keras.layers.Conv1D(filters, kernel_size, activation='relu'),\n",
    "    tf.keras.layers.Bidirectional(tf.keras.layers.LSTM(lstm_dim)),\n",
    "    tf.keras.layers.Dropout(.7),\n",
    "    tf.keras.layers.Dense(dense_dim, activation='relu'),\n",
    "    tf.keras.layers.Dense(dense_dim-10, activation='relu'),\n",
    "    tf.keras.layers.Dense(1, activation='sigmoid')\n",
    "])\n",
    "\n",
    "optimizer = tf.keras.optimizers.Adam(learning_rate=0.0045)\n",
    "\n",
    "# Set the training parameters\n",
    "model_lstm.compile(loss='binary_crossentropy',optimizer=optimizer,metrics=['accuracy'])\n",
    "\n",
    "# Print the model summary\n",
    "model_lstm.summary()"
   ]
  },
  {
   "cell_type": "code",
   "execution_count": 222,
   "metadata": {},
   "outputs": [
    {
     "name": "stdout",
     "output_type": "stream",
     "text": [
      "Epoch 1/26\n",
      "1/1 [==============================] - 4s 4s/step - loss: 0.6928 - accuracy: 0.5517 - val_loss: 0.6899 - val_accuracy: 0.6863\n",
      "Epoch 2/26\n",
      "1/1 [==============================] - 0s 295ms/step - loss: 0.6903 - accuracy: 0.5714 - val_loss: 0.6849 - val_accuracy: 0.6863\n",
      "Epoch 3/26\n",
      "1/1 [==============================] - 0s 283ms/step - loss: 0.6884 - accuracy: 0.5764 - val_loss: 0.6776 - val_accuracy: 0.6863\n",
      "Epoch 4/26\n",
      "1/1 [==============================] - 0s 281ms/step - loss: 0.6870 - accuracy: 0.5764 - val_loss: 0.6683 - val_accuracy: 0.6863\n",
      "Epoch 5/26\n",
      "1/1 [==============================] - 0s 281ms/step - loss: 0.6844 - accuracy: 0.5764 - val_loss: 0.6580 - val_accuracy: 0.6863\n",
      "Epoch 6/26\n",
      "1/1 [==============================] - 0s 300ms/step - loss: 0.6873 - accuracy: 0.5764 - val_loss: 0.6523 - val_accuracy: 0.6863\n",
      "Epoch 7/26\n",
      "1/1 [==============================] - 0s 292ms/step - loss: 0.6822 - accuracy: 0.5764 - val_loss: 0.6474 - val_accuracy: 0.6863\n",
      "Epoch 8/26\n",
      "1/1 [==============================] - 0s 289ms/step - loss: 0.6817 - accuracy: 0.5764 - val_loss: 0.6450 - val_accuracy: 0.6863\n",
      "Epoch 9/26\n",
      "1/1 [==============================] - 0s 292ms/step - loss: 0.6760 - accuracy: 0.5764 - val_loss: 0.6425 - val_accuracy: 0.6863\n",
      "Epoch 10/26\n",
      "1/1 [==============================] - 0s 317ms/step - loss: 0.6798 - accuracy: 0.5764 - val_loss: 0.6403 - val_accuracy: 0.6863\n",
      "Epoch 11/26\n",
      "1/1 [==============================] - 0s 286ms/step - loss: 0.6694 - accuracy: 0.5764 - val_loss: 0.6372 - val_accuracy: 0.6863\n",
      "Epoch 12/26\n",
      "1/1 [==============================] - 0s 284ms/step - loss: 0.6780 - accuracy: 0.5764 - val_loss: 0.6351 - val_accuracy: 0.6863\n",
      "Epoch 13/26\n",
      "1/1 [==============================] - 0s 281ms/step - loss: 0.6583 - accuracy: 0.5764 - val_loss: 0.6298 - val_accuracy: 0.6863\n",
      "Epoch 14/26\n",
      "1/1 [==============================] - 0s 296ms/step - loss: 0.6439 - accuracy: 0.5764 - val_loss: 0.6194 - val_accuracy: 0.6863\n",
      "Epoch 15/26\n",
      "1/1 [==============================] - 0s 291ms/step - loss: 0.6294 - accuracy: 0.5911 - val_loss: 0.6010 - val_accuracy: 0.6863\n",
      "Epoch 16/26\n",
      "1/1 [==============================] - 0s 286ms/step - loss: 0.6056 - accuracy: 0.6108 - val_loss: 0.5725 - val_accuracy: 0.6863\n",
      "Epoch 17/26\n",
      "1/1 [==============================] - 0s 281ms/step - loss: 0.5815 - accuracy: 0.6552 - val_loss: 0.5355 - val_accuracy: 0.7059\n",
      "Epoch 18/26\n",
      "1/1 [==============================] - 0s 294ms/step - loss: 0.5246 - accuracy: 0.6847 - val_loss: 0.4960 - val_accuracy: 0.7843\n",
      "Epoch 19/26\n",
      "1/1 [==============================] - 0s 282ms/step - loss: 0.5034 - accuracy: 0.7094 - val_loss: 0.4585 - val_accuracy: 0.7843\n",
      "Epoch 20/26\n",
      "1/1 [==============================] - 0s 277ms/step - loss: 0.4579 - accuracy: 0.7833 - val_loss: 0.4225 - val_accuracy: 0.8039\n",
      "Epoch 21/26\n",
      "1/1 [==============================] - 0s 276ms/step - loss: 0.4210 - accuracy: 0.8128 - val_loss: 0.4163 - val_accuracy: 0.8235\n",
      "Epoch 22/26\n",
      "1/1 [==============================] - 0s 278ms/step - loss: 0.3641 - accuracy: 0.9409 - val_loss: 0.4208 - val_accuracy: 0.8039\n",
      "Epoch 23/26\n",
      "1/1 [==============================] - 0s 277ms/step - loss: 0.3475 - accuracy: 0.9113 - val_loss: 0.3810 - val_accuracy: 0.8627\n",
      "Epoch 24/26\n",
      "1/1 [==============================] - 0s 276ms/step - loss: 0.3079 - accuracy: 0.9655 - val_loss: 0.3670 - val_accuracy: 0.8627\n",
      "Epoch 25/26\n",
      "1/1 [==============================] - 0s 276ms/step - loss: 0.2916 - accuracy: 0.9655 - val_loss: 0.3580 - val_accuracy: 0.8824\n",
      "Epoch 26/26\n",
      "1/1 [==============================] - 0s 273ms/step - loss: 0.2691 - accuracy: 0.9458 - val_loss: 0.3578 - val_accuracy: 0.8824\n"
     ]
    }
   ],
   "source": [
    "NUM_EPOCHS = 26\n",
    "BATCH_SIZE = 256\n",
    "\n",
    "# Train the model\n",
    "history_lstm = model_lstm.fit(X_train, y_train, batch_size=BATCH_SIZE, epochs=NUM_EPOCHS, validation_data=(X_val, y_val))"
   ]
  },
  {
   "cell_type": "code",
   "execution_count": 223,
   "metadata": {},
   "outputs": [
    {
     "data": {
      "image/png": "[encoded data removed]",
      "text/plain": [
       "<Figure size 640x480 with 1 Axes>"
      ]
     },
     "metadata": {},
     "output_type": "display_data"
    },
    {
     "data": {
      "image/png": "[encoded data removed]",
      "text/plain": [
       "<Figure size 640x480 with 1 Axes>"
      ]
     },
     "metadata": {},
     "output_type": "display_data"
    }
   ],
   "source": [
    "# Plot the accuracy and loss history\n",
    "plot_graphs(history_lstm, 'accuracy')\n",
    "plot_graphs(history_lstm, 'loss')"
   ]
  },
  {
   "cell_type": "code",
   "execution_count": 224,
   "metadata": {},
   "outputs": [
    {
     "name": "stdout",
     "output_type": "stream",
     "text": [
      "(10000, 8)\n",
      "{0: '▁turn', 1: '▁depth', 2: '▁micha', 3: '▁review', 4: '>', 5: 'fore', 6: '▁brend', 7: '▁ios\\r\\n', 8: \"▁couldn't\", 9: 'í', 10: '▁called', 11: '▁x', 12: '▁sorry', 13: '▁po', 14: '▁block', 15: '▁view', 16: 'ty', 17: 'mouth', 18: '▁amazed', 19: 'bur', 20: '▁full', 21: '▁something', 22: 'ny', 23: '▁who’s', 24: 'el', 25: '▁notch', 26: '▁worker', 27: '▁upset', 28: '▁ser', 29: '▁hey', 30: 'ctice', 31: '▁forever', 32: '▁doesn’t', 33: '41', 34: '▁god', 35: '▁قَ', 36: '▁atta', 37: '▁shows', 38: '11', 39: '▁quickly', 40: 'cle', 41: 'it', 42: '▁quick', 43: '▁aol', 44: 'ck', 45: 'ris', 46: '▁wants', 47: '▁wonder', 48: '▁brothers', 49: '▁regarding', 50: '▁st', 51: 'm', 52: 'd', 53: '▁sp', 54: '▁ref', 55: 'ap', 56: '▁fantastic', 57: 'ope', 58: '▁what', 59: 'ke', 60: 'ice:', 61: '▁you', 62: 'om', 63: 'ع', 64: 'mon', 65: 'rough', 66: '▁away', 67: '▁yest', 68: '▁effort', 69: '▁can', 70: '▁covid', 71: '▁has', 72: \"n't\", 73: '▁replacement', 74: 'ates', 75: 'mail', 76: 'side', 77: 'ctly', 78: '▁little', 79: 'ows', 80: '▁choo', 81: 'iend', 82: 'mend', 83: '▁grandmother', 84: 'ressed', 85: 'ber', 86: '▁taylor', 87: '▁mer', 88: '▁ra', 89: '▁picture', 90: '▁cou', 91: '▁guys', 92: '45', 93: '▁pos', 94: '▁black', 95: '▁appreci', 96: '▁pet', 97: '▁imp', 98: 'ak', 99: '▁thomas', 100: 'its', 101: '▁tower', 102: 'orre', 103: '▁employ', 104: '▁office:', 105: '▁cod', 106: '▁and', 107: '▁boyfriend', 108: '▁asked', 109: 'ank', 110: 'em', 111: '▁unt', 112: '▁make', 113: '▁good', 114: '▁behind', 115: '▁psychometrist', 116: 'self', 117: '▁thankyou', 118: 'antastic', 119: '▁regular', 120: 'eth', 121: 'ition', 122: '▁satisfied', 123: '▁unusual', 124: '▁personally', 125: '>\\r\\n', 126: '▁contin', 127: '▁449', 128: '▁she', 129: 'pport', 130: 'ible', 131: 'aa', 132: '▁much', 133: '▁turned', 134: '▁nicely', 135: '▁size', 136: '▁mess', 137: '▁both', 138: '@', 139: 'nts', 140: 'any', 141: '▁even', 142: '▁knew', 143: '▁immedi', 144: '▁exp', 145: 'vie', 146: '▁top', 147: 'ark', 148: '67', 149: '▁conf', 150: '▁label', 151: '▁ell', 152: 'omised', 153: '▁mom', 154: '▁money', 155: 'ear', 156: 'ere', 157: 'f', 158: 'ness', 159: '▁michael', 160: '▁receive', 161: '▁7', 162: '▁pare', 163: '▁order', 164: '54', 165: 'daughter', 166: '▁placed', 167: 'atform', 168: '▁options', 169: 'ru', 170: '▁ale', 171: '▁hus', 172: '▁$', 173: 'ه', 174: 'ail', 175: '▁mart', 176: '▁friends', 177: '▁paper', 178: '▁background', 179: 'bel', 180: '▁grass', 181: 'hind', 182: '▁chipped', 183: '▁exceeded', 184: '▁request', 185: '▁sm', 186: 'red', 187: '▁from', 188: '▁casket', 189: 'ychometrist', 190: 'pris', 191: 'o', 192: '▁weeks', 193: '▁check', 194: '▁deceased', 195: '▁regard', 196: '▁iphone', 197: 'rible', 198: '\\r', 199: 'appo', 200: '▁5', 201: 'ploy', 202: 'esome', 203: '▁afraid', 204: '’t', 205: '▁website', 206: '53', 207: '▁using', 208: '▁cost', 209: '@gmail', 210: '▁tay', 211: '▁i', 212: '▁ext', 213: '@yahoo', 214: '▁grateful', 215: \"▁i'\", 216: '▁gre', 217: '▁perman', 218: 'ward', 219: 'ually', 220: ';', 221: 'my', 222: 'mas', 223: 'ious', 224: 'ut', 225: '64', 226: '▁tit', 227: '!!', 228: '▁note', 229: '▁world', 230: '!!️', 231: '▁went', 232: '▁idea', 233: '▁tip', 234: '▁vi', 235: '▁ste', 236: 'ort', 237: '▁facebo', 238: '▁than', 239: '▁result', 240: '▁arrived', 241: '▁cris', 242: '▁lit', 243: '▁use', 244: '▁ret', 245: 'erish', 246: '▁plain', 247: '▁piece', 248: 'ed', 249: '▁rather', 250: '▁provid', 251: '▁“', 252: '▁recieved', 253: '▁567', 254: 'ple', 255: 'ateful', 256: '▁bak', 257: 'lly', 258: '▁process', 259: '▁up', 260: '▁treasure', 261: '▁nose', 262: '▁disappointed', 263: '▁incredible', 264: '▁short', 265: '▁service', 266: '▁twice', 267: '▁wonderful', 268: '▁krist', 269: 'un', 270: 'na', 271: '40', 272: '▁somet', 273: 'uly', 274: 'ary', 275: '▁des', 276: '▁experience', 277: '▁20', 278: '▁smith', 279: '▁adam', 280: '▁photo', 281: '▁har', 282: '▁concern', 283: 'ghter', 284: 'itt', 285: '▁en', 286: 'arg', 287: '▁bryan', 288: '▁card', 289: '▁ne', 290: '▁separ', 291: 'day', 292: 'ing', 293: '▁some', 294: 'like', 295: '▁sar', 296: 'uring', 297: '▁amazing\\r\\n', 298: '▁8', 299: 'ert', 300: '▁whom', 301: 'ames', 302: '▁1', 303: '▁fam', 304: '8', 305: 'y', 306: '▁matthew', 307: '▁everything', 308: '▁or', 309: '▁❤️', 310: 'oked', 311: 'enn', 312: 'ally', 313: '▁outcome', 314: '▁ar', 315: '▁shape', 316: '▁condition', 317: '▁lake', 318: '▁ups', 319: '▁appreciated', 320: '▁an', 321: '▁to:', 322: 'ter', 323: '▁stun', 324: '▁side', 325: '🥺', 326: '▁ter', 327: '76', 328: '▁recipient', 329: 'ood', 330: 'ger', 331: \"▁didn't\", 332: '▁blur', 333: 'pping', 334: '▁customers', 335: '▁197', 336: '▁images', 337: '▁3d', 338: '▁baby', 339: 'ient', 340: '▁fabulous', 341: '21', 342: '▁man', 343: '▁pay', 344: '▁space', 345: '▁dep', 346: '▁gon', 347: 'asure', 348: '▁literally', 349: '36', 350: '▁cell', 351: 'se', 352: '▁job', 353: '▁thank', 354: '▁bri', 355: 'seph', 356: '▁grey', 357: '▁express', 358: 'say', 359: 'artphone', 360: '▁my', 361: 'ished', 362: '▁b', 363: '55', 364: '▁brought', 365: '▁texts', 366: 'ave', 367: '▁defin', 368: '▁ios', 369: 'az', 370: '▁rectify', 371: 'cript', 372: 'bri', 373: '▁it', 374: 'form', 375: '▁364', 376: '▁keeps', 377: 'oph', 378: '▁christoph', 379: '▁light', 380: '▁rotating', 381: '▁quality', 382: '▁haven', 383: '▁la', 384: 'ers', 385: 'bor', 386: '▁realize', 387: '\"', 388: 'j', 389: '▁years', 390: '911', 391: 'you', 392: '▁rush', 393: '▁provided', 394: '▁selected', 395: '▁martin', 396: '▁finished', 397: 'ity', 398: '▁70', 399: '▁brad', 400: '▁no', 401: 'ould', 402: '▁afterno', 403: '▁hard', 404: '▁came', 405: 'fortable', 406: 'veral', 407: '31', 408: '▁connect', 409: '▁submitted', 410: '▁on', 411: 'al', 412: '▁contacted', 413: 'uation', 414: '▁min', 415: '▁yesterday', 416: 'cept', 417: '▁sudden', 418: '▁medium', 419: '▁tree', 420: '▁21', 421: '▁wondering', 422: '▁us', 423: 'w', 424: '▁possible', 425: 'edium', 426: 'v', 427: '▁shaff', 428: 'ite', 429: 'ek', 430: '▁information', 431: '▁gra', 432: 'ket', 433: '▁cent', 434: 'per', 435: '▁backgr', 436: '▁phot', 437: '▁product', 438: 'eral', 439: 'ik', 440: '▁year', 441: '▁purch', 442: '▁noticeable', 443: '▁kn', 444: 'nded', 445: '▁#', 446: 'ratch', 447: 'ason', 448: '▁law', 449: 'er', 450: 'nday', 451: 'ome', 452: 'ok', 453: 'ez', 454: '▁examples', 455: 'ra', 456: '▁referr', 457: 'ad', 458: '▁definitely', 459: 'hing', 460: 'sa', 461: '▁william', 462: '46', 463: '▁“bri', 464: '▁>\\r\\n', 465: '▁n', 466: '’', 467: '▁safe', 468: '▁c2isr', 469: '▁others', 470: '▁time', 471: '▁samsung', 472: 'jam', 473: 'one', 474: '▁brittany', 475: '▁pra', 476: 'ast', 477: 'own', 478: 'hley', 479: '▁within', 480: 'h', 481: '▁quest', 482: '▁at&t', 483: '▁member', 484: 'bo', 485: '▁ans', 486: 'jia', 487: '▁line', 488: '▁included', 489: 'am', 490: 'و', 491: 'tter', 492: '▁excellent', 493: '▁lovely', 494: '▁supposed', 495: 'alth', 496: '▁ashley', 497: '▁art', 498: 'ier', 499: 'ember', 500: '▁mo', 501: '▁fir', 502: '▁cust', 503: '▁sam', 504: '▁“brick”', 505: '▁\\ufeff', 506: 'itive', 507: '▁ph', 508: '▁company', 509: 'vice', 510: '2', 511: '68', 512: 'me', 513: '▁ad', 514: 'um', 515: '0', 516: 'lf', 517: '▁reviews', 518: '▁ever', 519: '▁these', 520: 'urn', 521: '▁shi', 522: 'fect', 523: '▁jo', 524: 'opped', 525: 'ivers', 526: '▁attach', 527: 'iam', 528: '▁employe', 529: 'reet', 530: 'ager', 531: '▁num', 532: '▁understanding', 533: '▁bat', 534: '▁shad', 535: '▁not', 536: '▁ent', 537: 'ted', 538: '▁else', 539: \"'\", 540: 'ion', 541: '▁expected', 542: '▁led', 543: '▁wednesday', 544: '▁help', 545: '▁aunt', 546: '▁tiff', 547: '▁fine', 548: '▁ryan', 549: 'ych', 550: '▁sist', 551: '▁prior', 552: 'be', 553: 'sol', 554: '▁android\\r\\n', 555: 'cent', 556: '▁jess', 557: '▁14', 558: 'lim', 559: 'gh', 560: '▁eng', 561: 'ult', 562: '▁purchas', 563: 'ding', 564: '▁trans', 565: 'ifer', 566: '▁adjust', 567: '▁certain', 568: '▁delivery', 569: '25', 570: 'ase', 571: '▁2', 572: '▁sid', 573: 'ined', 574: '▁ple', 575: '▁mejia', 576: '▁al', 577: '▁tot', 578: '▁days', 579: 'ial', 580: 'ken', 581: '▁presented', 582: '▁delivered', 583: '▁walk', 584: 'ina', 585: '▁det', 586: '▁previous', 587: '▁4', 588: '▁west', 589: '▁items', 590: 'n', 591: '▁ord', 592: '▁customer', 593: '▁ipad\\r\\n', 594: '▁int', 595: '▁also', 596: '▁husband', 597: '▁bradley', 598: 'ott', 599: 'ech', 600: 'ْ', 601: '▁remembering', 602: '▁tracking', 603: '▁scratches', 604: 'ometrist', 605: 'kin', 606: '@y', 607: 'pp', 608: '59', 609: 'bly', 610: '▁sending', 611: '▁best', 612: '▁needed', 613: '▁bre', 614: '▁appear', 615: '▁mall', 616: 'il', 617: '▁dear', 618: '88', 619: 'nect', 620: '▁att', 621: 'pe', 622: '▁mor', 623: '▁bo', 624: 'ily', 625: \"▁don't\", 626: '▁come', 627: '▁pre', 628: 'cy', 629: '▁plan', 630: '29', 631: '▁l', 632: 'resent', 633: '▁534', 634: 'und', 635: '43', 636: '▁se', 637: '▁message', 638: '▁alexis', 639: 'st', 640: '▁simmon', 641: '▁head', 642: '▁gu', 643: '...', 644: 'around', 645: '▁girlfriend', 646: '▁bro', 647: '▁people', 648: '▁fully', 649: '▁0', 650: '▁thom', 651: '▁hop', 652: '▁clarity', 653: 'cei', 654: '▁sister', 655: '▁purchase', 656: '▁sudd', 657: '▁pur', 658: 'll', 659: '▁pit', 660: '▁kim', 661: '▁today', 662: '▁email', 663: '1', 664: 'yf', 665: '▁believe', 666: '▁beaut', 667: '▁cond', 668: 'in', 669: '▁am', 670: '▁ben', 671: 'loy', 672: '▁grandma', 673: '▁opport', 674: '2is', 675: 'vin', 676: 'ew', 677: '▁red', 678: 'ur', 679: '▁cert', 680: 'oy', 681: '▁error', 682: 'look', 683: '▁awesome', 684: 'ent', 685: '▁pictured', 686: '▁amazing', 687: '▁i’m', 688: '▁about', 689: '▁requ', 690: 'with', 691: '▁given', 692: 'lt', 693: 'iff', 694: 'ured', 695: 'icles', 696: '▁object', 697: '▁separated', 698: '▁exce', 699: '▁timely', 700: 'ment', 701: '▁wond', 702: 's\\r\\n', 703: '▁right', 704: '▁قَد', 705: 'ake', 706: '▁park', 707: '▁want', 708: '▁cli', 709: '▁says', 710: 'llow', 711: 'ough', 712: '▁eas', 713: '▁look', 714: '▁shipped', 715: 'tment', 716: '!', 717: '▁purchasing', 718: 'ation', 719: '▁reaching', 720: '▁due', 721: '▁dimensional', 722: 'ful', 723: '▁tma', 724: '▁never', 725: '▁wow', 726: '▁recei', 727: 'iness', 728: 'ner', 729: '▁front', 730: 'way', 731: '▁book', 732: '▁already', 733: '▁so', 734: '▁difficult', 735: 'ج', 736: '▁letter', 737: '▁del', 738: 'ls', 739: '▁rec', 740: '▁ipad', 741: '▁👍', 742: '▁big', 743: '▁although', 744: '▁sooo', 745: '▁surpris', 746: 'fully', 747: '97', 748: 'ctfully', 749: 'ature', 750: '6', 751: 'just', 752: 'pg', 753: '▁corner', 754: '▁shipping', 755: 'urt', 756: 'n’t', 757: '▁with', 758: '▁mail', 759: 'q', 760: 'rist', 761: 'ahoo', 762: 'ip', 763: '▁where', 764: '▁diff', 765: '▁amaz', 766: 'ac', 767: '▁merry', 768: '▁terrible', 769: '▁keepsake', 770: '▁kais', 771: 'ط', 772: '▁street', 773: '▁fix', 774: '▁died', 775: '▁gonna', 776: 'vent', 777: '▁offer', 778: '▁present', 779: '▁passed', 780: '▁appreciate', 781: 'cond', 782: '▁beautif', 783: 'eop', 784: 'est', 785: '▁mean', 786: '▁$1', 787: '▁miss', 788: '▁but', 789: '▁now', 790: '▁text', 791: '▁until', 792: '▁sc', 793: '▁2nd', 794: 'ie', 795: '▁however', 796: '▁iss', 797: '▁tri', 798: 'ge', 799: '▁son’s', 800: '▁reg', 801: '▁immediately', 802: '▁were', 803: '▁com', 804: '▁suite', 805: 'ren', 806: 'cess', 807: '▁wrong', 808: '▁father', 809: '@hotmail', 810: 'k', 811: '▁family', 812: '▁cl', 813: '▁wanted', 814: '▁15', 815: 'ace', 816: 'ea', 817: '▁won', 818: '▁high', 819: '▁grandm', 820: '▁ask', 821: 'ather', 822: '▁how', 823: 'ي', 824: '▁rot', 825: 'cause', 826: '▁e', 827: 'agh', 828: 'lle', 829: '▁kelly', 830: '▁like', 831: '▁brendan', 832: '▁imag', 833: '▁hardly', 834: '▁lot', 835: 'town', 836: '”', 837: '▁rectang', 838: '▁exqu', 839: '▁tell', 840: 'pic', 841: '▁around', 842: '▁respond', 843: '▁show', 844: 'ress', 845: '▁rendered', 846: 's', 847: '▁be', 848: 'out', 849: 'lace', 850: '▁refund', 851: 'ocked', 852: '▁sele', 853: 'yes', 854: 'ations', 855: '▁mich', 856: '▁bruce', 857: 'bmit', 858: '▁site', 859: 'cial', 860: '▁highly', 861: '▁three', 862: 'emp', 863: 'ous', 864: '▁meaning', 865: 'ta', 866: '▁susan', 867: '▁kristina', 868: '▁parents', 869: '▁beautiful', 870: '▁wid', 871: '▁writing', 872: 'uce', 873: 'bul', 874: '▁cro', 875: '▁gifting', 876: '▁practice', 877: 'not', 878: '▁understand', 879: '▁lisa', 880: '▁though', 881: '▁regards', 882: '▁cut', 883: '▁12', 884: '▁being', 885: '😢', 886: '▁origin', 887: 'ans', 888: '▁stunning', 889: 'all', 890: '▁exact', 891: 'pad', 892: 'low', 893: 'ig', 894: 'ل', 895: '▁fr', 896: 'aged', 897: '▁under', 898: 'du', 899: '▁fact', 900: 'err', 901: 'itch', 902: '▁constru', 903: '▁عل', 904: 'ا', 905: '▁mr', 906: '▁”', 907: '\\ufeff', 908: '▁took', 909: '▁tammy', 910: '▁going', 911: '▁eith', 912: '▁could', 913: '▁fel', 914: '▁co', 915: '▁answered', 916: 'ais', 917: '▁unfort', 918: '▁early', 919: '▁ti', 920: '▁mistake', 921: '▁i’ll', 922: 'ots', 923: '▁benjam', 924: '▁christ', 925: '▁suppose', 926: '▁\\ufeff\\r\\n', 927: '▁conta', 928: 'ic', 929: 'come', 930: 'ized', 931: '▁remember', 932: '/', 933: '▁reach', 934: '▁return', 935: '▁em', 936: 'p', 937: '▁other', 938: 'cture', 939: '▁by', 940: '▁cour', 941: 'date', 942: 'ivered', 943: 'ss', 944: '▁img', 945: '▁perhaps', 946: '92', 947: '▁said', 948: 'e', 949: 'ain', 950: '▁whose', 951: 'uter', 952: 'thday', 953: 'rew', 954: '▁soooo', 955: '▁we', 956: '▁really', 957: 'astic', 958: '▁place', 959: '▁last', 960: '▁looking', 961: '▁af', 962: '▁link', 963: '▁produ', 964: '468', 965: '19', 966: 'ased', 967: 'fort', 968: '33', 969: 'au', 970: 'قَ', 971: '&t', 972: '▁err', 973: '▁recip', 974: '▁mel', 975: 'ce', 976: '▁package', 977: '▁wif', 978: 'ically', 979: '▁suppo', 980: 'i', 981: '▁bl', 982: '▁expensive', 983: '▁passing', 984: '▁event', 985: 'iver', 986: 'bl', 987: '▁he', 988: '▁xxl', 989: 'ced', 990: '▁couldn’t', 991: '▁wan', 992: '▁general', 993: '▁box', 994: '▁late', 995: '▁during', 996: '▁pa', 997: '▁peop', 998: '▁november', 999: '▁daughter', 1000: '▁units', 1001: '▁able', 1002: '▁devast', 1003: '▁advise', 1004: '▁recently', 1005: 'ript', 1006: '▁that', 1007: '▁sha', 1008: '▁facebook', 1009: '▁belie', 1010: '▁words', 1011: '▁his', 1012: '▁fi', 1013: '▁near', 1014: '▁c2is', 1015: 'yl', 1016: '▁left', 1017: '▁felt', 1018: '▁tr', 1019: '▁recommending', 1020: '▁cont', 1021: 'g', 1022: 'berg', 1023: 'lds', 1024: \"▁wouldn't\", 1025: '▁205', 1026: '▁sin', 1027: 'wn', 1028: '89', 1029: 'dy', 1030: '▁lo', 1031: 'ر', 1032: '▁sarah', 1033: 'or', 1034: '▁as', 1035: '▁disappoin', 1036: '▁pat', 1037: '▁reality', 1038: 'par', 1039: 'ately', 1040: '▁speechless', 1041: 'res', 1042: '▁743', 1043: 'ess', 1044: '▁speech', 1045: '▁week', 1046: '▁sett', 1047: '<unk>', 1048: 'ou', 1049: '▁rus', 1050: '▁notic', 1051: '▁the', 1052: '▁write', 1053: \"▁can't\", 1054: '▁extreme', 1055: '▁intended', 1056: '▁myself', 1057: 'nce', 1058: '▁own', 1059: '▁comp', 1060: 'ard', 1061: '▁small', 1062: 'ready', 1063: '▁larg', 1064: 'ia', 1065: 'no', 1066: '▁take', 1067: 'isite', 1068: '▁shadow', 1069: '▁alex', 1070: '▁tim', 1071: '▁south', 1072: '▁except', 1073: '▁point', 1074: 'wered', 1075: '▁sunday', 1076: 'lier', 1077: '▁response', 1078: '▁giving', 1079: '▁deli', 1080: '▁blown', 1081: '▁beautifully', 1082: '▁correctly', 1083: 'eneral', 1084: 'ci', 1085: '▁case', 1086: '▁any', 1087: '▁used', 1088: 'as', 1089: '▁me', 1090: '▁each', 1091: '▁hum', 1092: 'ancé', 1093: '▁col', 1094: '▁th', 1095: '▁was', 1096: '▁pieces', 1097: '▁seen', 1098: 'fin', 1099: '▁', 1100: '▁requested', 1101: '▁acc', 1102: 'lud', 1103: '▁30', 1104: '▁next', 1105: '▁reading', 1106: '▁fits', 1107: \"▁i've\", 1108: '▁fo', 1109: 'ax', 1110: '▁saw', 1111: 'ass', 1112: '▁december', 1113: '▁live', 1114: 'ile', 1115: '▁brian', 1116: '▁cried', 1117: 'er\\r\\n', 1118: '▁loved', 1119: '▁nov', 1120: '▁fe', 1121: '▁lost', 1122: '▁road', 1123: '▁material', 1124: '▁dece', 1125: 'cing', 1126: 'unt', 1127: 'ink', 1128: '▁exceptional', 1129: '▁matter', 1130: '▁when', 1131: 'ven', 1132: 'ust', 1133: '▁canceled', 1134: '▁back', 1135: '▁exactly', 1136: '▁jim', 1137: 'lear', 1138: '60', 1139: '▁lol', 1140: '▁print', 1141: '▁war', 1142: 'b', 1143: '▁many', 1144: 'cited', 1145: '▁send', 1146: 'la', 1147: '▁te', 1148: '▁mother', 1149: '▁ri', 1150: '58', 1151: '▁im', 1152: 'ynth', 1153: 'oo', 1154: '▁con', 1155: 'axy', 1156: 'ab', 1157: '▁super', 1158: '▁read', 1159: '▁pi', 1160: '▁way', 1161: '▁ch', 1162: '▁adv', 1163: '▁white', 1164: '▁earlier', 1165: '▁loves', 1166: '▁pic', 1167: '▁ex', 1168: 'ch', 1169: '▁receipt', 1170: '#', 1171: 'uz', 1172: '▁unlike', 1173: 'dd', 1174: '▁rem', 1175: 'og', 1176: 'u', 1177: '▁thing', 1178: '▁poor', 1179: '▁correct', 1180: 'osed', 1181: '▁wait', 1182: '▁few', 1183: '▁afternoon', 1184: 'akes', 1185: 'able', 1186: '▁learn', 1187: '▁happy', 1188: 'ep', 1189: '▁ass', 1190: '▁purpose', 1191: 'usual', 1192: '7', 1193: '▁would', 1194: '▁beauty', 1195: '▁sent', 1196: 'ire', 1197: '▁i’d', 1198: '▁redone', 1199: 'lete', 1200: '▁kimberly', 1201: '▁morning', 1202: '▁sender', 1203: '▁danielle', 1204: '22', 1205: '▁ear', 1206: '57', 1207: \"'t\", 1208: 'med', 1209: '▁bull', 1210: 'z', 1211: '▁sa', 1212: '▁phone', 1213: '▁joy', 1214: '▁showed', 1215: 'ir', 1216: 'br', 1217: '▁perfect', 1218: '▁description', 1219: '▁pack', 1220: '▁jpeg', 1221: '▁60', 1222: '▁isn’t', 1223: 'c', 1224: 'ach', 1225: '▁getting', 1226: '▁didn’t', 1227: '▁opt', 1228: '▁kaiser', 1229: '▁iphone\\r\\n', 1230: '▁produce', 1231: '▁fuzzy', 1232: 'ick', 1233: '▁ship', 1234: 'xt', 1235: '▁lady', 1236: 'oice', 1237: '▁wh', 1238: '▁respectfully', 1239: '409', 1240: '%', 1241: 'ith', 1242: '▁mh', 1243: '▁u', 1244: '▁creat', 1245: '▁kath', 1246: '▁cheap', 1247: '▁ordering', 1248: '▁gi', 1249: '▁they', 1250: '▁على', 1251: '▁her', 1252: '▁base', 1253: '▁support', 1254: 'oth', 1255: 'outh', 1256: '▁r', 1257: '▁june', 1258: 'ame', 1259: '▁concept', 1260: '▁ro', 1261: '▁wra', 1262: 'lor', 1263: '▁thinking', 1264: 'sung', 1265: '▁couple', 1266: 'ont', 1267: '▁bigger', 1268: 'ree', 1269: '▁great', 1270: '▁de', 1271: '▁think', 1272: 'ble', 1273: '▁engra', 1274: 'man', 1275: '▁le', 1276: '▁p', 1277: '▁enough', 1278: '▁corrected', 1279: '▁clo', 1280: 'so', 1281: 'ord', 1282: '▁tam', 1283: 'vast', 1284: 'amaged', 1285: 'َ', 1286: '▁bought', 1287: '▁keep', 1288: 'line', 1289: '▁fig', 1290: '▁works', 1291: 'ady', 1292: '▁deal', 1293: 'uck', 1294: 'م', 1295: 'sed', 1296: '▁cor', 1297: '▁large', 1298: '▁almost', 1299: 'ld', 1300: '▁looks', 1301: '▁barely', 1302: 'work', 1303: '▁addressed', 1304: \"▁i'm\", 1305: 'our', 1306: 'ppo', 1307: '▁pr', 1308: 'ize', 1309: 'ly', 1310: 'redible', 1311: '▁image', 1312: 'ience', 1313: '▁cherish', 1314: '01', 1315: '▁without', 1316: '▁ag', 1317: '▁issues', 1318: '▁leave', 1319: '▁97', 1320: '▁windows', 1321: '▁must', 1322: '▁fin', 1323: '▁sw', 1324: '▁can’t', 1325: 'ote', 1326: '▁consider', 1327: '▁includ', 1328: 't', 1329: 'ommend', 1330: '▁rect', 1331: '▁recommend', 1332: '▁yahoo', 1333: 'ind', 1334: '▁since', 1335: '▁44', 1336: '▁for', 1337: '▁through', 1338: 'ph', 1339: 'act', 1340: 'ْر', 1341: '▁mailed', 1342: '▁el', 1343: '▁s', 1344: '▁mobile', 1345: '▁he’s', 1346: '84', 1347: '▁addres', 1348: '▁maria', 1349: 'ves', 1350: '▁jpe', 1351: 'ney', 1352: '▁fore', 1353: '▁get', 1354: 'he', 1355: 'gg', 1356: '▁hoping', 1357: 'ider', 1358: '▁lif', 1359: 'action', 1360: '▁one', 1361: 'unity', 1362: '▁emily', 1363: 'ting', 1364: '▁et', 1365: 'ice', 1366: '▁does', 1367: 'le', 1368: 'ully', 1369: '❤️', 1370: '▁sh', 1371: '82', 1372: '▁exposed', 1373: '▁mist', 1374: '▁sure', 1375: '▁grand', 1376: '▁are', 1377: '▁forward', 1378: 'lo', 1379: '▁chose', 1380: 'ples', 1381: 'ist', 1382: '▁choose', 1383: 'li', 1384: '▁gr', 1385: 'omer', 1386: '▁that’s', 1387: '▁emot', 1388: '▁button', 1389: '▁hor', 1390: '▁just', 1391: '▁somewhat', 1392: '▁fiancé', 1393: '▁corre', 1394: 'irit', 1395: 'ific', 1396: '▁charg', 1397: '▁somewh', 1398: '▁looked', 1399: '▁stay', 1400: '▁respon', 1401: 'ang', 1402: '▁four', 1403: '▁aw', 1404: 'nes', 1405: '▁surprised', 1406: '▁png', 1407: '▁sooner', 1408: '▁business', 1409: '▁bott', 1410: '▁planned', 1411: '▁lumin', 1412: '▁wa', 1413: '▁cannot', 1414: '▁extremely', 1415: 'ober', 1416: '▁ordered', 1417: '▁rep', 1418: '▁second', 1419: '▁soon\\r\\n', 1420: '▁checked', 1421: '▁much\\r\\n', 1422: '▁sir', 1423: '▁sim', 1424: '▁oct', 1425: 'ol', 1426: '▁dim', 1427: '▁highest', 1428: 'ish', 1429: '▁tried', 1430: '▁future', 1431: 'ell', 1432: '▁resol', 1433: '▁apolog', 1434: '▁track', 1435: '▁a', 1436: 'es', 1437: 'ton', 1438: '🥲', 1439: '▁da', 1440: '▁exam', 1441: '▁beard', 1442: '▁pictures', 1443: 'rely', 1444: '▁pla', 1445: '▁hope', 1446: 'ional', 1447: '▁their', 1448: '▁christmas', 1449: '▁cool', 1450: '▁don’t', 1451: '▁sincerely', 1452: 'jand', 1453: '▁she’s', 1454: '▁previously', 1455: '▁september', 1456: 'ine', 1457: 'ated', 1458: '▁lea', 1459: 'ony', 1460: 'ened', 1461: 'cific', 1462: '.', 1463: '▁manner', 1464: '▁asap', 1465: '▁memor', 1466: '▁page', 1467: 'qu', 1468: 'cted', 1469: '▁mf', 1470: '▁arri', 1471: '▁sept', 1472: 'د', 1473: '▁app:', 1474: 'x', 1475: '▁issue', 1476: 'ill', 1477: '▁photos', 1478: 'sun', 1479: '▁mem', 1480: '▁more', 1481: '▁promised', 1482: 'pt', 1483: '00', 1484: '▁should', 1485: '▁will', 1486: '▁unfortunately', 1487: '▁advant', 1488: 'ried', 1489: 'nder', 1490: 'lp', 1491: '▁steph', 1492: 'gr', 1493: '▁names', 1494: 'ently', 1495: '▁go', 1496: '▁ann', 1497: '▁gl', 1498: '▁ke', 1499: '▁positive', 1500: '▁qu', 1501: '▁imagined', 1502: '▁anthony', 1503: '▁over', 1504: 'hn', 1505: 'are', 1506: '▁o', 1507: '▁wellness', 1508: '▁totally', 1509: ':', 1510: '▁it’s', 1511: '▁h', 1512: '▁annivers', 1513: 'ica', 1514: '▁cubes', 1515: 'yond', 1516: 'et', 1517: 'incent', 1518: '▁kind', 1519: '▁share', 1520: '▁limit', 1521: '▁yes', 1522: '▁davis', 1523: '▁pas', 1524: '▁merr', 1525: '▁specific', 1526: 'ne', 1527: '▁provide', 1528: '▁memories', 1529: '▁mar', 1530: '▁sat', 1531: '▁products', 1532: 'nt', 1533: '▁worth', 1534: 'عل', 1535: 'sing', 1536: '▁dark', 1537: '▁see', 1538: '▁moved', 1539: '▁fit', 1540: 'at', 1541: '▁occ', 1542: 'uy', 1543: '▁&', 1544: '▁spe', 1545: '9', 1546: '▁orient', 1547: '▁item', 1548: 'wer', 1549: '▁let', 1550: '▁legs', 1551: 'hap', 1552: '▁pl', 1553: 'phone', 1554: '▁opened', 1555: 'oman', 1556: '▁putting', 1557: '▁special', 1558: '▁port', 1559: '▁descript', 1560: '▁warren', 1561: '▁53', 1562: '▁surprise', 1563: '▁worked', 1564: 'izes', 1565: '▁permanente', 1566: 'stand', 1567: \"'s\", 1568: '▁3', 1569: 'wh', 1570: 'op', 1571: '▁smaller', 1572: '▁same', 1573: 'uch', 1574: 'other', 1575: '▁made', 1576: '▁larger', 1577: '▁forwarded', 1578: 'iting', 1579: 'ryan', 1580: 'ond', 1581: '▁give', 1582: 'thew', 1583: 'l', 1584: 'ght', 1585: 'wise', 1586: 'ears', 1587: 'ieved', 1588: '▁ps', 1589: '▁eyes', 1590: '▁why', 1591: 'ale', 1592: 'for', 1593: 'ant', 1594: '▁anything', 1595: '▁better', 1596: '▁su', 1597: '▁assured', 1598: '▁c', 1599: 'im', 1600: '▁while', 1601: '▁galaxy', 1602: '▁memory', 1603: 'emo', 1604: 'icult', 1605: '▁gir', 1606: '▁real', 1607: '▁noticed', 1608: '▁october', 1609: '▁amand', 1610: '▁pro', 1611: 'ft', 1612: '▁gone', 1613: 'pen', 1614: '▁thought', 1615: '▁crooked', 1616: '▁id', 1617: '▁1lt', 1618: 'ma', 1619: '▁stand', 1620: '▁perfectly', 1621: '▁based', 1622: 'os', 1623: '▁been', 1624: '|', 1625: '▁engraved', 1626: '▁gal', 1627: '▁probl', 1628: 'ri', 1629: '▁f', 1630: '39', 1631: 'ade', 1632: '5', 1633: '▁allows', 1634: '▁david', 1635: '▁exper', 1636: '▁wasn’t', 1637: '▁did', 1638: '▁of', 1639: '▁expectations', 1640: '▁put', 1641: '▁ago', 1642: 'ork', 1643: '▁clearly', 1644: 'é', 1645: '\\n', 1646: 'nd', 1647: '▁9', 1648: 'ng', 1649: '▁creation', 1650: '▁ال', 1651: '▁$100', 1652: 'ift', 1653: '▁well', 1654: '▁app', 1655: '▁br', 1656: 'ual', 1657: 'thing', 1658: '▁it’ll', 1659: '▁turnaround', 1660: '▁763', 1661: '\\r\\n', 1662: '▁find', 1663: '▁shar', 1664: '▁discount', 1665: '▁don', 1666: '▁wife', 1667: '▁expen', 1668: 'lfriend', 1669: '▁there', 1670: '▁health', 1671: '▁brother', 1672: '▁wrote', 1673: 'on', 1674: 'riend', 1675: 'berly', 1676: '▁boyf', 1677: '▁nothing', 1678: '▁delete', 1679: '▁dog', 1680: '▁lind', 1681: '▁inc', 1682: '▁month', 1683: '▁someone', 1684: '▁switch', 1685: 'ال', 1686: '▁t', 1687: '▁cons', 1688: '▁appears', 1689: '▁close', 1690: '▁home', 1691: '▁eff', 1692: '▁wednes', 1693: '▁price', 1694: '▁making', 1695: 'aking', 1696: '▁95', 1697: '▁locations', 1698: 'ure', 1699: '▁ha', 1700: '▁image1', 1701: 'anie', 1702: '87', 1703: 'ings', 1704: 'artment', 1705: '▁who', 1706: '▁pics', 1707: 'medi', 1708: 'table', 1709: 'ive', 1710: '▁18', 1711: 'ence', 1712: '▁merritt', 1713: '▁different', 1714: '▁packag', 1715: '▁tre', 1716: 'ath', 1717: '▁paid', 1718: '▁tw', 1719: '▁che', 1720: 'ost', 1721: '▁happ', 1722: '▁this', 1723: '▁6', 1724: '▁10', 1725: '17', 1726: ';\\r\\n', 1727: 'int', 1728: '❤', 1729: 'ت', 1730: 'ley', 1731: '’s', 1732: '▁cynth', 1733: '▁chos', 1734: '▁leg', 1735: '▁perhap', 1736: '▁after', 1737: '▁if', 1738: '▁only', 1739: '▁\"', 1740: '▁absol', 1741: '▁lis', 1742: 'ised', 1743: 'ular', 1744: '▁moms', 1745: '▁|', 1746: '▁gifts', 1747: '▁wedding', 1748: 'aughter', 1749: 'ق', 1750: '▁coo', 1751: 'umin', 1752: '▁children', 1753: 'bes', 1754: '▁chosen', 1755: '▁door', 1756: 'ib', 1757: '▁inte', 1758: '▁kids', 1759: '▁because', 1760: '▁helped', 1761: 'ect', 1762: '▁spent', 1763: '▁need', 1764: '▁referring', 1765: '▁either', 1766: 'ong', 1767: '▁11', 1768: '▁address', 1769: '▁your', 1770: 'olog', 1771: '▁k', 1772: 'erally', 1773: 'eared', 1774: 'id\\r\\n', 1775: '▁cube', 1776: '▁hi', 1777: '▁first', 1778: '▁in', 1779: 'most', 1780: '▁vis', 1781: 'ating', 1782: '▁continued', 1783: 'if', 1784: '▁person', 1785: 'id', 1786: 'ality', 1787: '▁li', 1788: 'view', 1789: '▁oth', 1790: '/or', 1791: '▁courtney', 1792: 'edi', 1793: '972', 1794: 'alk', 1795: '▁v', 1796: 'ited', 1797: 'ise', 1798: '▁cred', 1799: 'ndered', 1800: '▁disappo', 1801: '▁jenn', 1802: '▁sus', 1803: 'mit', 1804: '😖', 1805: '..', 1806: '▁several', 1807: '▁thanks', 1808: '▁cat', 1809: '▁son', 1810: '▁purchased', 1811: 'less', 1812: '▁clear', 1813: '▁#2', 1814: 'reme', 1815: '▁g', 1816: '▁love', 1817: '▁dimens', 1818: 'reat', 1819: 'ff', 1820: '▁notice', 1821: '08', 1822: '▁usaf', 1823: '▁litt', 1824: '▁brick', 1825: '▁ت', 1826: '▁00', 1827: 'bject', 1828: 'ide', 1829: 'eak', 1830: '▁testicles', 1831: '▁preview', 1832: '▁dec', 1833: 'thony', 1834: '▁alexand', 1835: '▁rectangle', 1836: '▁word', 1837: 'utely', 1838: 'ct', 1839: '▁receiving', 1840: '▁andro', 1841: '77', 1842: 'llo', 1843: '▁attached', 1844: '▁cu', 1845: '▁batter', 1846: 'ance', 1847: 'ull', 1848: '▁chea', 1849: 'bile', 1850: '▁male', 1851: 'itely', 1852: '▁lear', 1853: 'te', 1854: '▁rest', 1855: '▁feel', 1856: '▁res', 1857: '▁shown', 1858: '▁attaching', 1859: '▁wish', 1860: '30', 1861: '▁sd', 1862: 'cked', 1863: '▁2022', 1864: 'a\\r\\n', 1865: '▁birthday', 1866: 'ore', 1867: '▁britt', 1868: '▁wind', 1869: 'ential', 1870: '▁still', 1871: '▁tiffany', 1872: '▁and/or', 1873: 'ب', 1874: 'ldren', 1875: '▁permanently', 1876: '▁follow', 1877: '▁mis', 1878: '▁blo', 1879: 'ought', 1880: '▁team', 1881: '▁every', 1882: '▁cas', 1883: '26', 1884: '▁disappointment', 1885: 'inez', 1886: '▁benjamin', 1887: '▁amount', 1888: '▁orig', 1889: 'clear', 1890: '▁allen', 1891: '▁ab', 1892: '▁wrapped', 1893: '▁30th', 1894: 'raid', 1895: 'reci', 1896: '▁replace', 1897: '▁anniversary', 1898: 'ud', 1899: '▁sad', 1900: 'ry', 1901: '▁29', 1902: 'ُ', 1903: 'ue', 1904: 'ul', 1905: 'ement', 1906: 'ies', 1907: '▁nor', 1908: 'ned', 1909: '▁jennifer', 1910: 'iday', 1911: '▁jpg', 1912: '▁figure', 1913: 'ike', 1914: '▁out', 1915: '▁care', 1916: '▁know', 1917: '4', 1918: '▁female', 1919: '▁christopher', 1920: 'r', 1921: '▁5911', 1922: '▁orders', 1923: '▁vincent', 1924: '▁very', 1925: 'ause', 1926: '▁fault', 1927: '▁contact', 1928: '▁submit', 1929: '▁dis', 1930: 'though', 1931: '▁trying', 1932: 'a', 1933: \"▁i'll\", 1934: 'arity', 1935: '▁towers', 1936: '63', 1937: '▁explain', 1938: '▁sides', 1939: '▁at', 1940: '▁\\r\\n', 1941: '$', 1942: '▁glass', 1943: '▁fabul', 1944: '▁itself', 1945: '▁11/', 1946: '▁got', 1947: '▁joseph', 1948: '@g', 1949: '▁friend', 1950: '▁granddaughter', 1951: '▁you\\r\\n', 1952: '▁sharing', 1953: '▁sur', 1954: '▁asking', 1955: '▁chance', 1956: '▁spirit', 1957: 'ever', 1958: '▁per', 1959: '▁info', 1960: '▁brianmouth', 1961: '▁message:', 1962: '▁star', 1963: '▁call', 1964: '▁bottom', 1965: '▁try', 1966: 'sible', 1967: '▁resp', 1968: '▁gave', 1969: '▁saying', 1970: '▁lord', 1971: 'sive', 1972: '▁act', 1973: \"▁it's\", 1974: 'uture', 1975: '▁date', 1976: '/20', 1977: '▁questions', 1978: '▁test', 1979: '▁sor', 1980: '▁cra', 1981: \"▁that's\", 1982: '▁mental', 1983: '▁concer', 1984: 'age', 1985: '▁appeared', 1986: 'omet', 1987: '▁face', 1988: '▁client', 1989: '▁original', 1990: '▁opportunity', 1991: '▁smartphone', 1992: '▁to', 1993: '▁is', 1994: '▁pleased', 1995: 'and', 1996: 'is', 1997: 'ose', 1998: 'zy', 1999: '▁work', 2000: '“', 2001: '▁d', 2002: 'cus', 2003: '69', 2004: '▁tra', 2005: '▁meant', 2006: 'very', 2007: '▁bus', 2008: '▁young', 2009: 'ions', 2010: '▁mon', 2011: '▁off', 2012: '▁mone', 2013: '▁bab', 2014: 'ah', 2015: '▁shipment', 2016: '▁inform', 2017: '▁ment', 2018: '▁com\\r\\n', 2019: 'ving', 2020: 'lain', 2021: '▁cropped', 2022: '▁bare', 2023: '▁part', 2024: '▁name', 2025: 'ied', 2026: 'ids', 2027: 'us', 2028: '▁mat', 2029: 'vid', 2030: 'vious', 2031: 'iece', 2032: 'sion', 2033: '▁another', 2034: '▁loc', 2035: 're', 2036: '▁actually', 2037: 'atch', 2038: 'sh', 2039: '▁then', 2040: '👍', 2041: '▁all', 2042: '▁horrible', 2043: '▁speak', 2044: '▁ver', 2045: 'ay', 2046: '▁done', 2047: '▁friday', 2048: 'ag', 2049: '▁impressed', 2050: 'art', 2051: '▁had', 2052: '▁detail', 2053: 'ject', 2054: '▁them', 2055: 'ى', 2056: '3', 2057: 'أ', 2058: '️', 2059: '▁y', 2060: '▁foot', 2061: '▁yet', 2062: '▁old', 2063: 'ved', 2064: 'mitted', 2065: '@h', 2066: '▁choice', 2067: 'gin', 2068: 'led', 2069: '▁alejand', 2070: '▁please', 2071: '▁truly', 2072: 'ich', 2073: '▁such', 2074: '▁wor', 2075: '▁doing', 2076: 'ens', 2077: '▁new', 2078: 'ount', 2079: '▁alexandria', 2080: '▁2020', 2081: '▁before', 2082: '▁everyone', 2083: 'arr', 2084: 'stru', 2085: 'af', 2086: 'yle', 2087: '▁warm', 2088: 'ning', 2089: '▁lindsay', 2090: 'ar', 2091: '▁expecting', 2092: '▁finally', 2093: 've', 2094: '▁do', 2095: '▁platform', 2096: '▁scratch', 2097: 'ow', 2098: '▁differe', 2099: '▁computer', 2100: '▁john', 2101: 'ó', 2102: '▁hes', 2103: 'aut', 2104: '▁danie', 2105: '▁cynthia', 2106: 'otmail', 2107: 'nth', 2108: '28', 2109: 'vis', 2110: '▁exquisite', 2111: '▁expe', 2112: '▁buy', 2113: '▁cry', 2114: 'cer', 2115: '▁un', 2116: '▁#6', 2117: '▁post', 2118: '▁mini', 2119: '▁lights', 2120: 'band', 2121: '▁beyond', 2122: '▁rotates', 2123: '▁guy', 2124: '▁webs', 2125: 'pectfully', 2126: 'ِ', 2127: '▁have', 2128: 'ered', 2129: 'lie', 2130: '▁day', 2131: '▁set', 2132: '▁none', 2133: '▁fem', 2134: 'fied', 2135: '▁engraving', 2136: '▁pri', 2137: 'ack', 2138: 'ck”', 2139: '▁may', 2140: '▁outlook', 2141: '▁nice', 2142: 'es\\r\\n', 2143: 'ot', 2144: 'standing', 2145: '▁hello', 2146: 'ate', 2147: '▁disc', 2148: '/c', 2149: '▁problem', 2150: 'ن', 2151: 'en', 2152: '▁excited', 2153: '▁martinez', 2154: '▁broken', 2155: '▁dad', 2156: '20', 2157: 'ver', 2158: 'xl', 2159: 'ente', 2160: '&', 2161: 'isfied', 2162: '▁jessica', 2163: '▁fa', 2164: '▁wed', 2165: '▁again', 2166: '▁add', 2167: 'cé', 2168: 'oing', 2169: 'ways', 2170: '▁two', 2171: 'ues', 2172: 'cc', 2173: '▁absolutely', 2174: '▁james', 2175: '▁received', 2176: 'celed', 2177: 'eded', 2178: '▁chi', 2179: '▁bir', 2180: 'tney', 2181: '▁its', 2182: '▁difference', 2183: '’ll', 2184: 'pped', 2185: '▁otherwise', 2186: '▁j', 2187: 'les', 2188: '▁i’', 2189: '▁too', 2190: 'iz', 2191: '▁fuz', 2192: '▁m', 2193: 'bs', 2194: 'llent', 2195: '▁re', 2196: '▁creating', 2197: '▁emotional', 2198: '▁tears', 2199: '▁w', 2200: '▁heart', 2201: '▁soon', 2202: '▁wr', 2203: '▁most', 2204: '▁gift', 2205: 'fo', 2206: '▁open', 2207: 'unately', 2208: 'ued', 2209: 'ify', 2210: 'ified', 2211: 'ents', 2212: '▁number', 2213: '▁color', 2214: '▁hesit', 2215: 'ria', 2216: 'mber', 2217: 'th', 2218: '▁having', 2219: 'fe', 2220: '▁which', 2221: '▁200', 2222: 'ely', 2223: '▁expect', 2224: '▁our', 2225: '▁maybe', 2226: '▁say', 2227: 'ound', 2228: '▁into', 2229: 'son', 2230: '▁him', 2231: 'erday', 2232: '😭', 2233: 'ro', 2234: '▁craig', 2235: 'an', 2236: 'pose', 2237: 'ight', 2238: '▁jun', 2239: '▁ap', 2240: '▁fast', 2241: 'erial'}\n",
      "2242\n"
     ]
    }
   ],
   "source": [
    "# Get the embedding layer from the model (i.e. first layer)\n",
    "embedding_layer = model_lstm.layers[0]\n",
    "\n",
    "# Get the weights of the embedding layer\n",
    "embedding_weights = embedding_layer.get_weights()[0]\n",
    "\n",
    "# Print the shape. Expected is (vocab_size, embedding_dim)\n",
    "print(embedding_weights.shape) \n",
    "\n",
    "reverse_word_index = {i: token for i, token in enumerate(BPE_sentence_tokenizer.get_vocab())}\n",
    "print(reverse_word_index)\n",
    "print(len(reverse_word_index))\n",
    "\n",
    "# Get the index-word dictionary\n"
   ]
  },
  {
   "cell_type": "markdown",
   "metadata": {},
   "source": [
    "Cell below was used for visual analysis of tokenized subwords"
   ]
  },
  {
   "cell_type": "code",
   "execution_count": 192,
   "metadata": {},
   "outputs": [
    {
     "ename": "KeyError",
     "evalue": "2242",
     "output_type": "error",
     "traceback": [
      "\u001b[1;31m---------------------------------------------------------------------------\u001b[0m",
      "\u001b[1;31mKeyError\u001b[0m                                  Traceback (most recent call last)",
      "Cell \u001b[1;32mIn[192], line 11\u001b[0m\n\u001b[0;32m      7\u001b[0m \u001b[39m# Initialize the loop. Start counting at `1` because `0` is just for the padding\u001b[39;00m\n\u001b[0;32m      8\u001b[0m \u001b[39mfor\u001b[39;00m word_num \u001b[39min\u001b[39;00m \u001b[39mrange\u001b[39m(\u001b[39m1\u001b[39m, vocab_size):\n\u001b[0;32m      9\u001b[0m \n\u001b[0;32m     10\u001b[0m   \u001b[39m# Get the word associated at the current index\u001b[39;00m\n\u001b[1;32m---> 11\u001b[0m   word_name \u001b[39m=\u001b[39m reverse_word_index[word_num]\n\u001b[0;32m     13\u001b[0m   \u001b[39m# Get the embedding weights associated with the current index\u001b[39;00m\n\u001b[0;32m     14\u001b[0m   word_embedding \u001b[39m=\u001b[39m embedding_weights[word_num]\n",
      "\u001b[1;31mKeyError\u001b[0m: 2242"
     ]
    }
   ],
   "source": [
    "import io\n",
    "\n",
    "# Open writeable files\n",
    "out_v = io.open('vecs.tsv', 'w', encoding='utf-8')\n",
    "out_m = io.open('meta.tsv', 'w', encoding='utf-8')\n",
    "\n",
    "# Initialize the loop. Start counting at `1` because `0` is just for the padding\n",
    "for word_num in range(1, vocab_size):\n",
    "\n",
    "  # Get the word associated at the current index\n",
    "  word_name = reverse_word_index[word_num]\n",
    "\n",
    "  # Get the embedding weights associated with the current index\n",
    "  word_embedding = embedding_weights[word_num]\n",
    "\n",
    "  # Write the word name\n",
    "  out_m.write(word_name + \"\\n\")\n",
    "\n",
    "  # Write the word embedding\n",
    "  out_v.write('\\t'.join([str(x) for x in word_embedding]) + \"\\n\")\n",
    "\n",
    "# Close the files\n",
    "out_v.close()\n",
    "out_m.close()"
   ]
  },
  {
   "cell_type": "markdown",
   "metadata": {},
   "source": [
    "A little testing with tf tokenizer"
   ]
  },
  {
   "cell_type": "code",
   "execution_count": 193,
   "metadata": {},
   "outputs": [
    {
     "ename": "AttributeError",
     "evalue": "'BertTokenizer' object has no attribute 'texts_to_sequences'",
     "output_type": "error",
     "traceback": [
      "\u001b[1;31m---------------------------------------------------------------------------\u001b[0m",
      "\u001b[1;31mAttributeError\u001b[0m                            Traceback (most recent call last)",
      "Cell \u001b[1;32mIn[193], line 2\u001b[0m\n\u001b[0;32m      1\u001b[0m seed_text \u001b[39m=\u001b[39m \u001b[39m\"\u001b[39m\u001b[39mSuper Good and i like it\u001b[39m\u001b[39m\"\u001b[39m\n\u001b[1;32m----> 2\u001b[0m token_list \u001b[39m=\u001b[39m tokenizer\u001b[39m.\u001b[39;49mtexts_to_sequences([seed_text])[\u001b[39m0\u001b[39m]\n\u001b[0;32m      3\u001b[0m token_list \u001b[39m=\u001b[39m pad_sequences([token_list], padding\u001b[39m=\u001b[39m\u001b[39m'\u001b[39m\u001b[39mpre\u001b[39m\u001b[39m'\u001b[39m)\n\u001b[0;32m      4\u001b[0m \u001b[39mprint\u001b[39m(token_list)\n",
      "\u001b[1;31mAttributeError\u001b[0m: 'BertTokenizer' object has no attribute 'texts_to_sequences'"
     ]
    }
   ],
   "source": [
    "seed_text = \"Super Good and i like it\"\n",
    "token_list = tokenizer.texts_to_sequences([seed_text])[0]\n",
    "token_list = pad_sequences([token_list], padding='pre')\n",
    "print(token_list)\n",
    "# Feed to the model and get the probabilities for each index\n",
    "probabilities = model_lstm.predict(token_list, verbose=0)\n",
    "# Get the index with the highest probability\n",
    "predicted = np.argmax(probabilities, axis=-2)\n",
    "print(probabilities)\n",
    "if probabilities[0][0]>0.5:\n",
    "    print(\"1\")\n",
    "else:\n",
    "    print(\"0\")"
   ]
  },
  {
   "cell_type": "markdown",
   "metadata": {},
   "source": [
    "Testing with custom tokenizer"
   ]
  },
  {
   "cell_type": "code",
   "execution_count": 225,
   "metadata": {},
   "outputs": [
    {
     "name": "stdout",
     "output_type": "stream",
     "text": [
      "1/1 [==============================] - 1s 562ms/step\n",
      "Predicted Sentiment: negative (Probability: 0.443075031042099)\n"
     ]
    }
   ],
   "source": [
    "input_sentence = \"My boyfriend bought me flowers today. They were very beautiful, but I had to spend the whole day outside. When I came home, they were already flabby. So I don’t like the quality of flowers in that shop.\"\n",
    "\n",
    "# Preprocess the sentence (lowercase, tokenize, and pad)\n",
    "input_sequence = BPE_sentence_tokenizer.encode(input_sentence).ids\n",
    "input_sequence = pad_sequences([input_sequence], maxlen=max_length_num, padding='pre')\n",
    "\n",
    "# Make a prediction\n",
    "predicted_probability = model_lstm.predict(input_sequence)\n",
    "\n",
    "# Interpret the prediction (assuming binary classification)\n",
    "if predicted_probability > 0.5:\n",
    "    sentiment = \"positive\"\n",
    "else:\n",
    "    sentiment = \"negative\"\n",
    "\n",
    "print(f\"Predicted Sentiment: {sentiment} (Probability: {predicted_probability[0][0]})\")\n",
    "\n"
   ]
  },
  {
   "cell_type": "code",
   "execution_count": 226,
   "metadata": {},
   "outputs": [
    {
     "name": "stdout",
     "output_type": "stream",
     "text": [
      "INFO:tensorflow:Assets written to: ./my_trained_model\\assets\n"
     ]
    },
    {
     "name": "stderr",
     "output_type": "stream",
     "text": [
      "INFO:tensorflow:Assets written to: ./my_trained_model\\assets\n"
     ]
    }
   ],
   "source": [
    "# Assuming you have trained your model and stored it in the `model_lstm` variable\n",
    "# Specify the path where you want to save the model\n",
    "model_save_path = './my_trained_model'\n",
    "\n",
    "# Save the model\n",
    "model_lstm.save(model_save_path)\n",
    "\n"
   ]
  },
  {
   "cell_type": "code",
   "execution_count": 131,
   "metadata": {},
   "outputs": [
    {
     "data": {
      "text/plain": [
       "('./my_tokenizer\\\\tokenizer_config.json',\n",
       " './my_tokenizer\\\\special_tokens_map.json',\n",
       " './my_tokenizer\\\\vocab.json',\n",
       " './my_tokenizer\\\\merges.txt',\n",
       " './my_tokenizer\\\\added_tokens.json',\n",
       " './my_tokenizer\\\\tokenizer.json')"
      ]
     },
     "execution_count": 131,
     "metadata": {},
     "output_type": "execute_result"
    }
   ],
   "source": [
    "from transformers import BertTokenizerFast\n",
    "\n",
    "new_tokenizer = BertTokenizerFast(tokenizer_object=BPE_sentence_tokenizer)\n",
    "new_tokenizer.save_pretrained('./my_tokenizer')\n"
   ]
  }
 ],
 "metadata": {
  "kernelspec": {
   "display_name": "Python 3",
   "language": "python",
   "name": "python3"
  },
  "language_info": {
   "codemirror_mode": {
    "name": "ipython",
    "version": 3
   },
   "file_extension": ".py",
   "mimetype": "text/x-python",
   "name": "python",
   "nbconvert_exporter": "python",
   "pygments_lexer": "ipython3",
   "version": "3.11.4"
  },
  "orig_nbformat": 4
 },
 "nbformat": 4,
 "nbformat_minor": 2
}
