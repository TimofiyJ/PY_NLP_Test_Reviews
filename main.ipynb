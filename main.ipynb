{
 "cells": [
  {
   "cell_type": "code",
   "execution_count": 39,
   "metadata": {},
   "outputs": [],
   "source": [
    "import pandas as pd # dataframes and csv\n",
    "import numpy as np # linear algebra\n",
    "import sklearn as sk # data maniputation\n",
    "import matplotlib.pyplot as plt # data visualization\n",
    "import re # regular expressions for the text\n",
    "import tensorflow as tf # for ML\n",
    "\n",
    "\n",
    "from sklearn.model_selection import train_test_split\n",
    "from tensorflow.keras.preprocessing.text import Tokenizer\n",
    "from tensorflow.keras.preprocessing.sequence import pad_sequences\n",
    "from transformers import BertTokenizer\n",
    "from tokenizers import SentencePieceBPETokenizer\n",
    "#from tensorflow_text.tools.wordpiece_vocab import bert_vocab_from_dataset as bert_vocab"
   ]
  },
  {
   "cell_type": "code",
   "execution_count": 40,
   "metadata": {},
   "outputs": [
    {
     "name": "stdout",
     "output_type": "stream",
     "text": [
      "                                                  text sentiment\n",
      "0    Hi Leah, I ordered this early to give to a co-...  Positive\n",
      "1    Good evening, \\n  I just received my order! I ...  Positive\n",
      "2    I couldn’t find where I could write a review b...  Positive\n",
      "3    I received my order today and gave it to my si...  Positive\n",
      "4    ﻿Max,\\n\\nWe received the heart but sadly are d...  Negative\n",
      "..                                                 ...       ...\n",
      "249    Thank you, this is beautiful and they loved it.  Positive\n",
      "250                    Thanks so much. They lookgreat!  Positive\n",
      "251  Emily, \\n  THANK YOU so much for the new “bric...  Positive\n",
      "252  Jacqueline,  \\n  I just received the replaceme...  Positive\n",
      "253  Order #(857)982-509708\\nI just received my ord...  Positive\n",
      "\n",
      "[254 rows x 2 columns]\n"
     ]
    },
    {
     "data": {
      "image/png": "[encoded data removed]",
      "text/plain": [
       "<Figure size 640x480 with 1 Axes>"
      ]
     },
     "metadata": {},
     "output_type": "display_data"
    }
   ],
   "source": [
    "labels = pd.read_csv(\"./data/labels.csv\")\n",
    "reviews = pd.read_csv(\"./data/reviews.csv\")\n",
    "\n",
    "reviews = reviews.merge(labels,\"outer\",\"id\")\n",
    "dataset = reviews.drop(labels = \"id\",axis=1)\n",
    "print(dataset)\n",
    "\n",
    "dataset[\"sentiment\"].value_counts().plot(kind='bar', title='Classes distribution')\n",
    "count_positive = len([i for i in dataset[\"sentiment\"] if i==\"Positive\"])\n",
    "count_negative = len([i for i in dataset[\"sentiment\"] if i==\"Negative\"])\n",
    "plt.text(0,count_positive,str(count_positive))\n",
    "plt.text(1,count_negative,str(count_negative))\n",
    "plt.show()"
   ]
  },
  {
   "cell_type": "markdown",
   "metadata": {},
   "source": [
    "Negative to Positive ratio is okay. No need to fix training and testing datasets manualy"
   ]
  },
  {
   "cell_type": "code",
   "execution_count": 41,
   "metadata": {},
   "outputs": [
    {
     "name": "stdout",
     "output_type": "stream",
     "text": [
      "266\n",
      "Mr. Lans, \n",
      "  Thank you for this email and the opportunity to let you know about the finished product that I received yesterday. My husband Christopher, helped me order this item gift for a good friend who lost her daughter Kimberly. I’ve ordered these 3D products before with wonderful results, but I’m wondering now if maybe it was from a different company because I must tell you I was VERY disappointed with the end result of this one. It’s very hard to see exactly what the finished product is going to look like on a computer screen, so thought choosing the heart design would work. But it didn’t at all. The bottom of the heart looks like it’s making a “dent” in the top of Kimberly’s head. So there is no way I could possibility send this to my friend. I think your system should be able to advise you if the image submitted would not be a good fit and allow you to either choose a different item or perhaps suggest you selected a larger size heart. If given the choice, (for only $20 more) I could have chosen the large item “brick” which would have looked much better. I was also surprised at how small the “medium” heart was and the $60 jump in cost for the large size.   \n",
      "  So with all this being said, I’d like to know what my options are and if it’s possible to return this item for a full refund OR perhaps a reorder of something else.   \n",
      "  Thanks for your help.  \n",
      "  Pamela Peterson;  \n",
      "  \n",
      "\n",
      " Sent from my iPad  \n",
      "Begin forwarded message:\n",
      "2488\n",
      "AVG LENGTH: 303.0\n"
     ]
    }
   ],
   "source": [
    "#Finding the vocab size\n",
    "words = []\n",
    "max_length = []\n",
    "\n",
    "for i in dataset[\"text\"]:\n",
    "    i = re.split(r'[,\\s!?()._\\-]+', i)\n",
    "    i = [j for j in i if j is not None and j!=\"\"]\n",
    "    max_length.append(len(i))\n",
    "    for j in i:\n",
    "\n",
    "        words.append(j)\n",
    "words = list(set(words))\n",
    "max_length_num=max(max_length)\n",
    "print(max(max_length))\n",
    "print(dataset[\"text\"][max_length.index(max(max_length))])\n",
    "print(len(words))\n",
    "print(\"AVG LENGTH: \" + str(np.array([len(i) for i in dataset[\"text\"]]).mean()))"
   ]
  },
  {
   "cell_type": "code",
   "execution_count": 42,
   "metadata": {},
   "outputs": [],
   "source": [
    "train, test = train_test_split(dataset, test_size=0.2, random_state=42, shuffle=True)\n",
    "\n",
    "training_sentences = []\n",
    "training_labels = []\n",
    "\n",
    "testing_sentences = []\n",
    "testing_labels = []\n",
    "\n",
    "# Loop over all training examples and save the sentences and labels\n",
    "for t in train[\"text\"]:\n",
    "  training_sentences.append(t)\n",
    "\n",
    "for s in train[\"sentiment\"]:\n",
    "  if s == \"Positive\": # Redo the labels so the processing is faster \n",
    "    training_labels.append(1)\n",
    "  else:\n",
    "    training_labels.append(0)\n",
    "\n",
    "# Loop over all test examples and save the sentences and labels\n",
    "for t in test[\"text\"]:\n",
    "  testing_sentences.append(t)\n",
    "\n",
    "for s in test[\"sentiment\"]:\n",
    "  if s == \"Positive\": # Redo the labels so the processing is faster \n",
    "    testing_labels.append(1)\n",
    "  else:\n",
    "    testing_labels.append(0)\n",
    "\n",
    "# Convert labels lists to numpy array\n",
    "training_labels_final = np.array(training_labels)\n",
    "testing_labels_final = np.array(testing_labels)\n",
    "\n"
   ]
  },
  {
   "cell_type": "markdown",
   "metadata": {},
   "source": [
    "Tokenizing subwords"
   ]
  },
  {
   "cell_type": "code",
   "execution_count": 43,
   "metadata": {},
   "outputs": [],
   "source": [
    "sentences = []\n",
    "pattern = r'[,\\s!?()._\\-]+'\n",
    "for sentence in dataset[\"text\"]:\n",
    "    sentence = sentence.lower()\n",
    "    sentence = re.split(pattern, sentence) # Split the text based on the pattern\n",
    "    sentence = \" \".join(sentence)\n",
    "    sentences.append(sentence)"
   ]
  },
  {
   "cell_type": "code",
   "execution_count": 140,
   "metadata": {},
   "outputs": [
    {
     "name": "stdout",
     "output_type": "stream",
     "text": [
      "[[   0    0    0 ...  156  852  180]\n",
      " [   0    0    0 ...  355  134  287]\n",
      " [   0    0    0 ...  186  127  724]\n",
      " ...\n",
      " [   0    0    0 ...  186  127  724]\n",
      " [   0    0    0 ...  814  443   80]\n",
      " [   0    0    0 ...  119 1146 1841]]\n",
      "51\n",
      "246\n"
     ]
    }
   ],
   "source": [
    "with open(\"text.txt\", \"w\", encoding=\"utf-8\") as f:\n",
    "    for sentence in sentences:\n",
    "        f.write(sentence+\"\\n\")\n",
    "    f.close()\n",
    "\n",
    "vocab_size = 2000\n",
    "trunc_type='pre'\n",
    "oov_tok = \"<OOV>\"\n",
    "\n",
    "BPE_sentence_tokenizer = SentencePieceBPETokenizer()\n",
    "BPE_sentence_tokenizer.train(\"text.txt\",vocab_size=vocab_size)\n",
    "\n",
    "encoded_texts = [BPE_sentence_tokenizer.encode(text).ids for text in sentences]\n",
    "# Pad the sequences to a consistent length\n",
    "X = pad_sequences(encoded_texts, maxlen=max_length_num, padding='pre')\n",
    "print(X)\n",
    "label_mapping = {\"Positive\": 1, \"Negative\": 0}\n",
    "encoded_labels = [label_mapping[label] for label in dataset[\"sentiment\"]]\n",
    "y = np.array(encoded_labels)\n",
    "\n",
    "# Split your data into training and validation sets\n",
    "X_train, X_val, y_train, y_val = train_test_split(X, y, test_size=0.2, random_state=42)\n",
    "print(len(y_val))\n",
    "\n",
    "word_to_find = \"disappointed\"\n",
    "\n",
    "# Encode the word to get its ID\n",
    "encoded_word = BPE_sentence_tokenizer.encode(word_to_find)\n",
    "word_id = encoded_word.ids[0]\n",
    "print(word_id)"
   ]
  },
  {
   "cell_type": "markdown",
   "metadata": {},
   "source": [
    "Tokenizing words"
   ]
  },
  {
   "cell_type": "code",
   "execution_count": null,
   "metadata": {},
   "outputs": [],
   "source": []
  },
  {
   "cell_type": "code",
   "execution_count": 77,
   "metadata": {},
   "outputs": [
    {
     "name": "stdout",
     "output_type": "stream",
     "text": [
      "number of words in word_index: 1898\n",
      "[[  0   0   0 ...  43  14   8]\n",
      " [  0   0   0 ...   4 202 792]\n",
      " [  0   0   0 ... 799 182  94]\n",
      " ...\n",
      " [  0   0   0 ...  24   7  50]\n",
      " [  0   0   0 ... 153   1   1]\n",
      " [  0   0   0 ...   3 114   1]]\n",
      "[1 1 1 1 1 0 0 1 0 1 1 0 0 1 0 1 1 0 1 1 0 0 1 0 1 1 1 1 1 1 1 0 1 0 0 1 1\n",
      " 1 0 1 1 0 0 1 0 1 1 1 0 1 0 0 1 0 0 0 0 1 1 1 1 1 1 1 1 1 0 0 1 1 1 1 0 0\n",
      " 0 0 1 0 1 0 0 0 0 0 0 0 1 1 1 0 1 1 1 1 0 1 0 0 0 0 0 1 1 1 0 1 1 1 0 0 0\n",
      " 1 1 0 0 1 0 1 1 1 0 1 1 0 0 0 1 0 0 1 1 1 1 1 0 0 1 0 1 0 1 1 1 1 1 1 1 1\n",
      " 1 1 1 1 0 1 1 0 1 1 0 0 0 0 1 1 1 0 0 1 1 0 0 1 0 1 0 1 1 0 1 1 1 1 0 0 0\n",
      " 0 0 1 0 0 1 0 1 1 1 1 0 1 1 0 1 1 0]\n"
     ]
    }
   ],
   "source": [
    "# Parameters\n",
    "\n",
    "# Initialize the Tokenizer class\n",
    "tokenizer = Tokenizer(num_words = vocab_size, oov_token=oov_tok)\n",
    "\n",
    "# Generate the word index dictionary for the training sentences\n",
    "tokenizer.fit_on_texts(training_sentences)\n",
    "word_index = tokenizer.word_index\n",
    "print(f'number of words in word_index: {len(word_index)}')\n",
    "\n",
    "\n",
    "# Generate and pad the training sequences\n",
    "sequences = tokenizer.texts_to_sequences(training_sentences)\n",
    "padded = pad_sequences(sequences, truncating=trunc_type)\n",
    "print(padded)\n",
    "\n",
    "# Generate and pad the test sequences\n",
    "testing_sequences = tokenizer.texts_to_sequences(testing_sentences)\n",
    "testing_padded = pad_sequences(testing_sequences)\n",
    "print(training_labels_final)"
   ]
  },
  {
   "cell_type": "code",
   "execution_count": 106,
   "metadata": {},
   "outputs": [],
   "source": [
    "# Plot Utility\n",
    "def plot_graphs(history, string):\n",
    "  plt.plot(history.history[string])\n",
    "  plt.plot(history.history['val_'+string])\n",
    "  plt.xlabel(\"Epochs\")\n",
    "  plt.ylabel(string)\n",
    "  plt.legend([string, 'val_'+string])\n",
    "  plt.show()"
   ]
  },
  {
   "cell_type": "code",
   "execution_count": 116,
   "metadata": {},
   "outputs": [
    {
     "name": "stdout",
     "output_type": "stream",
     "text": [
      "Model: \"sequential_13\"\n",
      "_________________________________________________________________\n",
      " Layer (type)                Output Shape              Param #   \n",
      "=================================================================\n",
      " embedding_13 (Embedding)    (None, None, 8)           16000     \n",
      "                                                                 \n",
      " conv1d_13 (Conv1D)          (None, None, 32)          1056      \n",
      "                                                                 \n",
      " bidirectional_13 (Bidirect  (None, 32)                6272      \n",
      " ional)                                                          \n",
      "                                                                 \n",
      " dropout_14 (Dropout)        (None, 32)                0         \n",
      "                                                                 \n",
      " dense_26 (Dense)            (None, 6)                 198       \n",
      "                                                                 \n",
      " dense_27 (Dense)            (None, 1)                 7         \n",
      "                                                                 \n",
      "=================================================================\n",
      "Total params: 23533 (91.93 KB)\n",
      "Trainable params: 23533 (91.93 KB)\n",
      "Non-trainable params: 0 (0.00 Byte)\n",
      "_________________________________________________________________\n"
     ]
    }
   ],
   "source": [
    "# Parameters\n",
    "embedding_dim = 8\n",
    "lstm_dim = 16\n",
    "filters = 32\n",
    "kernel_size = 4\n",
    "dense_dim = 6\n",
    "\n",
    "# Model Definition with LSTM\n",
    "model_lstm = tf.keras.Sequential([\n",
    "    tf.keras.layers.Embedding(vocab_size, embedding_dim),\n",
    "    tf.keras.layers.Conv1D(filters, kernel_size, activation='relu'),\n",
    "    tf.keras.layers.Bidirectional(tf.keras.layers.LSTM(lstm_dim)),\n",
    "    tf.keras.layers.Dropout(.6),\n",
    "    tf.keras.layers.Dense(dense_dim, activation='relu'),\n",
    "    tf.keras.layers.Dense(1, activation='sigmoid')\n",
    "])\n",
    "\n",
    "optimizer = tf.keras.optimizers.Adam(learning_rate=0.006)\n",
    "\n",
    "# Set the training parameters\n",
    "model_lstm.compile(loss='binary_crossentropy',optimizer=optimizer,metrics=['accuracy'])\n",
    "\n",
    "# Print the model summary\n",
    "model_lstm.summary()"
   ]
  },
  {
   "cell_type": "code",
   "execution_count": 117,
   "metadata": {},
   "outputs": [
    {
     "name": "stdout",
     "output_type": "stream",
     "text": [
      "Epoch 1/20\n",
      "1/1 [==============================] - 4s 4s/step - loss: 0.6930 - accuracy: 0.5123 - val_loss: 0.6807 - val_accuracy: 0.6863\n",
      "Epoch 2/20\n",
      "1/1 [==============================] - 0s 247ms/step - loss: 0.6890 - accuracy: 0.5665 - val_loss: 0.6690 - val_accuracy: 0.6863\n",
      "Epoch 3/20\n",
      "1/1 [==============================] - 0s 251ms/step - loss: 0.6832 - accuracy: 0.5764 - val_loss: 0.6570 - val_accuracy: 0.6863\n",
      "Epoch 4/20\n",
      "1/1 [==============================] - 0s 246ms/step - loss: 0.6752 - accuracy: 0.5764 - val_loss: 0.6446 - val_accuracy: 0.6863\n",
      "Epoch 5/20\n",
      "1/1 [==============================] - 0s 242ms/step - loss: 0.6770 - accuracy: 0.5764 - val_loss: 0.6351 - val_accuracy: 0.6863\n",
      "Epoch 6/20\n",
      "1/1 [==============================] - 0s 265ms/step - loss: 0.6717 - accuracy: 0.5764 - val_loss: 0.6286 - val_accuracy: 0.6863\n",
      "Epoch 7/20\n",
      "1/1 [==============================] - 0s 249ms/step - loss: 0.6704 - accuracy: 0.5764 - val_loss: 0.6240 - val_accuracy: 0.6863\n",
      "Epoch 8/20\n",
      "1/1 [==============================] - 0s 254ms/step - loss: 0.6593 - accuracy: 0.5764 - val_loss: 0.6195 - val_accuracy: 0.6863\n",
      "Epoch 9/20\n",
      "1/1 [==============================] - 0s 264ms/step - loss: 0.6622 - accuracy: 0.5714 - val_loss: 0.6137 - val_accuracy: 0.6863\n",
      "Epoch 10/20\n",
      "1/1 [==============================] - 0s 268ms/step - loss: 0.6454 - accuracy: 0.5764 - val_loss: 0.6066 - val_accuracy: 0.6863\n",
      "Epoch 11/20\n",
      "1/1 [==============================] - 0s 253ms/step - loss: 0.6170 - accuracy: 0.5961 - val_loss: 0.5941 - val_accuracy: 0.6863\n",
      "Epoch 12/20\n",
      "1/1 [==============================] - 0s 252ms/step - loss: 0.5777 - accuracy: 0.6700 - val_loss: 0.5721 - val_accuracy: 0.6863\n",
      "Epoch 13/20\n",
      "1/1 [==============================] - 0s 252ms/step - loss: 0.5256 - accuracy: 0.8128 - val_loss: 0.5368 - val_accuracy: 0.7059\n",
      "Epoch 14/20\n",
      "1/1 [==============================] - 0s 253ms/step - loss: 0.4618 - accuracy: 0.8916 - val_loss: 0.4909 - val_accuracy: 0.7255\n",
      "Epoch 15/20\n",
      "1/1 [==============================] - 0s 252ms/step - loss: 0.4026 - accuracy: 0.9360 - val_loss: 0.4490 - val_accuracy: 0.7843\n",
      "Epoch 16/20\n",
      "1/1 [==============================] - 0s 263ms/step - loss: 0.3293 - accuracy: 0.9606 - val_loss: 0.4361 - val_accuracy: 0.7843\n",
      "Epoch 17/20\n",
      "1/1 [==============================] - 0s 260ms/step - loss: 0.2779 - accuracy: 0.9360 - val_loss: 0.3966 - val_accuracy: 0.7647\n",
      "Epoch 18/20\n",
      "1/1 [==============================] - 0s 251ms/step - loss: 0.2015 - accuracy: 0.9901 - val_loss: 0.3509 - val_accuracy: 0.8235\n",
      "Epoch 19/20\n",
      "1/1 [==============================] - 0s 247ms/step - loss: 0.1828 - accuracy: 0.9754 - val_loss: 0.3245 - val_accuracy: 0.8824\n",
      "Epoch 20/20\n",
      "1/1 [==============================] - 0s 236ms/step - loss: 0.1516 - accuracy: 0.9754 - val_loss: 0.3197 - val_accuracy: 0.8824\n"
     ]
    }
   ],
   "source": [
    "NUM_EPOCHS = 20\n",
    "BATCH_SIZE = 256\n",
    "\n",
    "# Train the model\n",
    "history_lstm = model_lstm.fit(X_train, y_train, batch_size=BATCH_SIZE, epochs=NUM_EPOCHS, validation_data=(X_val, y_val))"
   ]
  },
  {
   "cell_type": "code",
   "execution_count": 118,
   "metadata": {},
   "outputs": [
    {
     "data": {
      "image/png": "[encoded data removed]",
      "text/plain": [
       "<Figure size 640x480 with 1 Axes>"
      ]
     },
     "metadata": {},
     "output_type": "display_data"
    },
    {
     "data": {
      "image/png": "[encoded data removed]",
      "text/plain": [
       "<Figure size 640x480 with 1 Axes>"
      ]
     },
     "metadata": {},
     "output_type": "display_data"
    }
   ],
   "source": [
    "# Plot the accuracy and loss history\n",
    "plot_graphs(history_lstm, 'accuracy')\n",
    "plot_graphs(history_lstm, 'loss')"
   ]
  },
  {
   "cell_type": "code",
   "execution_count": 119,
   "metadata": {},
   "outputs": [
    {
     "name": "stdout",
     "output_type": "stream",
     "text": [
      "(2000, 8)\n",
      "{0: '▁though', 1: '▁sudd', 2: '▁10', 3: '▁how', 4: 'erday', 5: '▁don’t', 6: '17', 7: '▁blown', 8: 've', 9: '▁almost', 10: '▁jpeg', 11: '▁advise', 12: 'uture', 13: '▁small', 14: 'clear', 15: 'ratch', 16: '/or', 17: '▁fact', 18: 'seph', 19: 'cess', 20: '▁cond', 21: '▁tell', 22: 'vast', 23: 'line', 24: '▁live', 25: '▁art', 26: \"▁it's\", 27: 'uck', 28: '▁mar', 29: '▁receiving', 30: '▁been', 31: '▁gr', 32: 'ast', 33: 'nts', 34: '▁cu', 35: '▁engraving', 36: '▁c', 37: 'al', 38: '1', 39: 'ressed', 40: 'hind', 41: '▁al', 42: '▁jessica', 43: '▁unt', 44: '▁problem', 45: '▁wasn’t', 46: 'irit', 47: 'le', 48: '▁explain', 49: 'en', 50: '▁delivery', 51: '▁ordered', 52: 'erish', 53: '▁computer', 54: 'arg', 55: '▁better', 56: '▁15', 57: 'ike', 58: '▁bab', 59: 'ally', 60: '▁gi', 61: '▁day', 62: '▁nothing', 63: 'lear', 64: 'um', 65: '▁ment', 66: '▁to', 67: 'cond', 68: 'ib', 69: 'ade', 70: '▁doesn’t', 71: '▁isn’t', 72: '▁sent', 73: 'ully', 74: '▁sender', 75: 'st', 76: 'ill', 77: '▁year', 78: '▁do', 79: '33', 80: '▁meant', 81: '▁#', 82: 'ered', 83: '▁chance', 84: '▁separ', 85: '▁employ', 86: '▁submitted', 87: '▁coo', 88: 'me', 89: 'ult', 90: '▁pi', 91: 'ahoo', 92: '▁ar', 93: '▁exact', 94: '▁imag', 95: 'ي', 96: 'ort', 97: '▁tower', 98: '▁tri', 99: '▁should', 100: 'alk', 101: 'ots', 102: 'esome', 103: '▁pack', 104: '▁son’s', 105: 'ble', 106: '▁since', 107: 'ich', 108: '▁wedding', 109: '▁who', 110: '▁alex', 111: 'unt', 112: '▁face', 113: '▁star', 114: 'br', 115: '▁west', 116: 'sol', 117: '▁price', 118: 'cept', 119: '▁receive', 120: 'cc', 121: '▁little', 122: '▁cris', 123: '▁high', 124: '▁possible', 125: '▁within', 126: 'bur', 127: '▁197', 128: '▁co', 129: '▁عل', 130: '▁wra', 131: '▁amaz', 132: '▁highly', 133: 'ب', 134: '▁by', 135: '36', 136: '▁contact', 137: '▁before', 138: 'lly', 139: 'just', 140: '▁arrived', 141: 'nth', 142: 'age', 143: '28', 144: '▁choice', 145: '▁expe', 146: \"▁i'm\", 147: '▁st', 148: 'nect', 149: '▁sat', 150: '▁seen', 151: '▁replacement', 152: '▁purch', 153: '▁granddaughter', 154: 'us', 155: '▁item', 156: '😢', 157: '!!', 158: 'ifer', 159: 'ific', 160: '▁hi', 161: '▁everything', 162: '▁previous', 163: 'bes', 164: 'ober', 165: '▁god', 166: 'pg', 167: 'ew', 168: 'م', 169: '▁feel', 170: '▁awesome', 171: '▁add', 172: '▁upset', 173: '’ll', 174: '▁cert', 175: '▁have', 176: 'cing', 177: '▁at', 178: '▁fin', 179: '▁stunning', 180: '▁appeared', 181: 'ph', 182: 'lfriend', 183: 'ase', 184: 'ma', 185: 'ible', 186: '▁gifts', 187: '▁were', 188: '▁days', 189: 'he', 190: '▁near', 191: '▁used', 192: 'ition', 193: '▁opport', 194: 'in', 195: 'ol', 196: '▁boyf', 197: '▁sister', 198: 'ify', 199: 'kin', 200: '▁clearly', 201: '▁letter', 202: '▁guys', 203: '▁cl', 204: '▁arri', 205: '▁smartphone', 206: 'ek', 207: 's\\r\\n', 208: 'ited', 209: 'nder', 210: '’t', 211: 'ual', 212: '▁specific', 213: 'ir', 214: '▁j', 215: '▁fi', 216: 'bor', 217: '▁beautif', 218: '88', 219: '▁r', 220: 'res', 221: '▁eng', 222: '▁ios\\r\\n', 223: '▁app', 224: 'ny', 225: '▁bat', 226: '▁', 227: 'sible', 228: '▁rectangle', 229: 'any', 230: '▁next', 231: '▁14', 232: '▁she’s', 233: '▁tam', 234: 'tney', 235: '▁receipt', 236: '▁mh', 237: 'antastic', 238: 'ria', 239: '▁diff', 240: '▁perhap', 241: '97', 242: 'ppo', 243: 'reme', 244: '▁produ', 245: '▁>\\r\\n', 246: '▁people', 247: '▁somewhat', 248: 'celed', 249: '▁pur', 250: '▁enough', 251: 'ion', 252: '▁i’ll', 253: 'ized', 254: '▁”', 255: '▁worker', 256: '▁k', 257: '▁company', 258: '▁dim', 259: '▁ship', 260: 'artment', 261: 'cial', 262: 'ng', 263: 'oked', 264: '▁i', 265: '▁h', 266: '▁towers', 267: '▁will', 268: 'ready', 269: '▁call', 270: '▁because', 271: 'ip', 272: 'lp', 273: 'riend', 274: '▁had', 275: '▁surpris', 276: '▁appreciate', 277: '▁items', 278: '▁intended', 279: '▁business', 280: 'incent', 281: '▁thank', 282: 'ken', 283: '▁great', 284: 'edium', 285: '▁christopher', 286: '▁please', 287: '▁suite', 288: '▁won', 289: '▁saying', 290: '▁krist', 291: 'ess', 292: 'et', 293: '▁mean', 294: 'im', 295: '▁bus', 296: '▁des', 297: '▁shar', 298: '▁engra', 299: '▁nose', 300: '▁maria', 301: 'ice', 302: 'ans', 303: 'ط', 304: 'z', 305: '▁immediately', 306: 'led', 307: '▁need', 308: '▁sincerely', 309: '▁loved', 310: '▁even', 311: '▁wait', 312: '▁nov', 313: '▁good', 314: 'í', 315: '▁an', 316: 'vie', 317: '▁mer', 318: 'lim', 319: 'fect', 320: '▁other', 321: '..', 322: 'work', 323: '▁litt', 324: '@gmail', 325: '▁comp', 326: '▁corre', 327: '40', 328: 'ez', 329: 'ings', 330: 'one', 331: '▁get', 332: '@hotmail', 333: '▁came', 334: 'ft', 335: '▁our', 336: '▁pla', 337: '▁provided', 338: 'ff', 339: '43', 340: '7', 341: 'nes', 342: 'ried', 343: 'around', 344: '▁oct', 345: '▁memory', 346: 'thony', 347: 'ru', 348: '▁provid', 349: 'ain', 350: 'look', 351: 'é', 352: '▁going', 353: '▁refund', 354: '▁bir', 355: 'iver', 356: '▁cust', 357: 'say', 358: '▁amand', 359: \"'s\", 360: '▁excited', 361: '▁sw', 362: 'ised', 363: '▁twice', 364: '▁he’s', 365: 'h', 366: 'art', 367: '▁matthew', 368: 'ress', 369: 'bs', 370: '▁ال', 371: '▁practice', 372: '▁f', 373: '▁wife', 374: '▁0', 375: '▁button', 376: 'otmail', 377: 'or', 378: '▁ext', 379: '🥲', 380: '▁three', 381: 'oice', 382: '▁purchas', 383: '▁knew', 384: 'way', 385: '▁aol', 386: '▁website', 387: '▁jo', 388: '▁finished', 389: '▁1', 390: '▁ordering', 391: '▁mail', 392: '▁sad', 393: 'and', 394: 'ax', 395: 'ck', 396: 'ctfully', 397: '▁te', 398: '▁see', 399: '▁con', 400: '▁200', 401: '▁11', 402: '▁regard', 403: '▁wrong', 404: '41', 405: '▁something', 406: '▁michael', 407: '▁mom', 408: 'ه', 409: '▁does', 410: '2is', 411: '▁“', 412: 'lain', 413: '▁referr', 414: '▁issues', 415: '▁20', 416: 'a\\r\\n', 417: '▁asap', 418: '▁ke', 419: 'lor', 420: '▁cont', 421: 'band', 422: '▁pl', 423: '▁finally', 424: '▁with', 425: '▁wrote', 426: '▁err', 427: '▁questions', 428: 'se', 429: 'ryan', 430: 'ت', 431: 'ce', 432: '▁mon', 433: '▁l', 434: '▁sur', 435: '@h', 436: '▁11/', 437: 'lds', 438: 'ider', 439: '▁canceled', 440: '▁cried', 441: '▁during', 442: '9', 443: '29', 444: 'ial', 445: '▁aunt', 446: 'ac', 447: 'ke', 448: '▁supposed', 449: 'lud', 450: \"▁wouldn't\", 451: 'ager', 452: 'ples', 453: '▁gra', 454: '▁usaf', 455: 'mas', 456: 'est', 457: 'ually', 458: 'ought', 459: '▁detail', 460: '▁shipped', 461: '▁18', 462: '▁disappo', 463: 'os', 464: '▁asked', 465: '▁saw', 466: 'ong', 467: 'د', 468: '▁idea', 469: '▁images', 470: '▁fantastic', 471: 'ated', 472: '▁led', 473: '▁$', 474: '▁own', 475: '▁go', 476: 'all', 477: '▁customer', 478: '▁resp', 479: '▁beyond', 480: '▁ashley', 481: '&', 482: 'wered', 483: '▁concer', 484: '\"', 485: '▁cube', 486: 'ger', 487: '▁lost', 488: '▁\"', 489: '▁creat', 490: 'ree', 491: '▁through', 492: 'mouth', 493: 'ason', 494: '▁tim', 495: '▁either', 496: 'ved', 497: '▁maybe', 498: 'du', 499: '▁mis', 500: 'xt', 501: '▁just', 502: '▁could', 503: '▁size', 504: 'iness', 505: '▁such', 506: 'sion', 507: 'ount', 508: 'eop', 509: '▁res', 510: '▁exce', 511: '▁clear', 512: '▁sc', 513: '▁difficult', 514: '▁hoping', 515: 'cent', 516: 'ِ', 517: 'err', 518: '▁info', 519: '▁his', 520: '▁products', 521: '▁promised', 522: '▁girlfriend', 523: 'orre', 524: '▁september', 525: 'ْر', 526: '▁ple', 527: 'mit', 528: '▁block', 529: 'ding', 530: 'yf', 531: 'cted', 532: 'ls', 533: 'ize', 534: 'ise', 535: '▁bull', 536: '▁eyes', 537: 'ert', 538: '▁expected', 539: '▁showed', 540: '▁man', 541: '▁ro', 542: '▁error', 543: 'ite', 544: '82', 545: 'ional', 546: 'act', 547: 'َ', 548: '▁th', 549: 'cer', 550: 'sh', 551: 'side', 552: '▁rest', 553: '▁lol', 554: 'ynth', 555: '57', 556: '▁two', 557: '▁wrapped', 558: '▁out', 559: '▁mor', 560: '▁appear', 561: '▁i’m', 562: '▁acc', 563: '▁merry', 564: '▁place', 565: '▁👍', 566: '▁write', 567: '5', 568: '▁daughter', 569: 'sun', 570: '▁female', 571: '▁w', 572: 'no', 573: '▁chea', 574: 'op', 575: 'ri', 576: '▁3', 577: 'r', 578: 'oo', 579: '▁53', 580: 'ple', 581: '▁jess', 582: 'ure', 583: '▁b', 584: 'pris', 585: '▁look', 586: '▁hard', 587: 'ab', 588: '▁dep', 589: 'y', 590: '▁am', 591: 'id\\r\\n', 592: '▁sd', 593: '▁s', 594: 'form', 595: '▁sunday', 596: '▁can', 597: '▁c2is', 598: 'pp', 599: '▁che', 600: '▁inte', 601: 'ica', 602: '▁png', 603: '▁it’s', 604: '▁pat', 605: '▁lif', 606: 'erial', 607: '▁fast', 608: '▁lea', 609: '▁suppose', 610: '▁street', 611: 'cy', 612: '▁12', 613: 'uter', 614: 'ice:', 615: 'jand', 616: '▁satisfied', 617: '▁able', 618: '▁tried', 619: '▁pay', 620: ';', 621: '▁m', 622: 'cause', 623: '▁done', 624: '▁didn’t', 625: '▁person', 626: 'less', 627: '▁joy', 628: 'iff', 629: 'omised', 630: '▁every', 631: '▁lot', 632: '▁fuzzy', 633: '▁thom', 634: '▁tay', 635: '▁attach', 636: 'rew', 637: 'ves', 638: '▁glass', 639: 'rist', 640: 'ject', 641: '▁expectations', 642: '▁loc', 643: '▁un', 644: '▁however', 645: '▁keep', 646: '▁today', 647: '▁kais', 648: '▁left', 649: '▁red', 650: 'ine', 651: '▁until', 652: 'itt', 653: '@yahoo', 654: '53', 655: '▁mist', 656: 'llow', 657: 'vious', 658: '▁took', 659: '▁issue', 660: '▁late', 661: '▁u', 662: '▁brick', 663: '▁rem', 664: '▁larger', 665: \"▁that's\", 666: \"▁don't\", 667: 'ently', 668: '▁william', 669: '8', 670: '▁mobile', 671: 'hn', 672: '▁while', 673: 'gin', 674: '▁all', 675: '▁addressed', 676: 'resent', 677: '▁defin', 678: 'bul', 679: 'self', 680: 'lace', 681: '▁tiff', 682: '▁bro', 683: 'gg', 684: '▁lady', 685: '▁died', 686: '▁&', 687: 'v', 688: '▁fe', 689: '▁ser', 690: 'ous', 691: '▁link', 692: '▁brad', 693: '▁cas', 694: '▁inc', 695: '4', 696: '68', 697: '▁tr', 698: 'ta', 699: 'agh', 700: 'er', 701: 'thew', 702: \"n't\", 703: 'ah', 704: 'urn', 705: '▁come', 706: '▁recommend', 707: '▁worth', 708: '▁wif', 709: '▁package', 710: '▁heart', 711: '▁date', 712: '▁ask', 713: '▁delete', 714: 'ivered', 715: '▁cro', 716: '▁gon', 717: '▁super', 718: 'ik', 719: 'uy', 720: 'ateful', 721: 'nd', 722: 'bly', 723: '▁four', 724: '▁like', 725: 'utely', 726: '▁us', 727: 'iam', 728: '▁mem', 729: '▁pro', 730: '▁last', 731: '▁charg', 732: '▁mistake', 733: 'ivers', 734: '▁em', 735: '▁kind', 736: '▁support', 737: '▁walk', 738: '🥺', 739: '\\r\\n', 740: '▁tiffany', 741: 'ss', 742: 'most', 743: '▁you', 744: '▁sele', 745: '▁still', 746: '▁martin', 747: '▁made', 748: '▁disappoin', 749: '▁exp', 750: '▁ipad', 751: 'm', 752: 'ear', 753: '▁except', 754: '▁fuz', 755: '.', 756: 'cé', 757: '▁pare', 758: '▁dimensional', 759: 'bject', 760: '▁learn', 761: 'osed', 762: '▁without', 763: 'ank', 764: 'ot', 765: 'ment', 766: 'artphone', 767: '▁stay', 768: '▁webs', 769: '▁attached', 770: 'gr', 771: '▁eas', 772: '▁poor', 773: '▁someone', 774: 'itive', 775: '▁chos', 776: '▁364', 777: 'ْ', 778: '▁tip', 779: 'ined', 780: 'ular', 781: '▁g', 782: '▁stun', 783: '▁somet', 784: '▁and/or', 785: 'iece', 786: '\\ufeff', 787: '▁00', 788: '/c', 789: '▁dis', 790: 'pose', 791: 'ع', 792: '▁case', 793: 'أ', 794: '▁home', 795: '▁product', 796: 'rible', 797: 'rough', 798: '▁iphone\\r\\n', 799: '▁cry', 800: '▁exceptional', 801: '▁x', 802: 'town', 803: 'ust', 804: 'ghter', 805: '▁chose', 806: '76', 807: '▁think', 808: 'li', 809: 'ers', 810: '▁review', 811: 'o', 812: '▁et', 813: '▁extreme', 814: '▁right', 815: 'ations', 816: '▁know', 817: 'uly', 818: '▁danie', 819: '▁dec', 820: '▁amazed', 821: 'itely', 822: '▁recieved', 823: '▁same', 824: '▁yahoo', 825: '▁anniversary', 826: 'ven', 827: 'fo', 828: '▁wind', 829: 't', 830: '▁there', 831: '▁differe', 832: '▁yesterday', 833: 'ang', 834: 'ow', 835: '▁pas', 836: 'nce', 837: '08', 838: 'ced', 839: '▁col', 840: 'ن', 841: 'ctice', 842: '▁at&t', 843: '▁n', 844: 'ap', 845: 'c', 846: 'berly', 847: '▁preview', 848: 'ott', 849: '▁jenn', 850: 'id', 851: '▁cou', 852: '▁based', 853: '▁pr', 854: '▁placed', 855: '▁too', 856: '▁rectang', 857: 'uce', 858: '▁e', 859: 'alth', 860: 'pen', 861: 'ature', 862: '▁keepsake', 863: 'ate', 864: '▁yes', 865: '▁are', 866: '▁ra', 867: '▁micha', 868: '▁she', 869: '▁includ', 870: 'ord', 871: 'atch', 872: '▁phone', 873: 'ement', 874: '▁eff', 875: '▁keeps', 876: '25', 877: '▁looked', 878: '▁real', 879: '▁help', 880: 'ace', 881: 'bile', 882: '30', 883: 'e', 884: 'uring', 885: '▁beautifully', 886: 'if', 887: 'cited', 888: 'ows', 889: 'ia', 890: '89', 891: '▁expen', 892: '▁iphone', 893: '▁special', 894: 'rely', 895: '00', 896: '▁del', 897: '▁mat', 898: '▁le', 899: '▁getting', 900: '▁davis', 901: 'lo', 902: '▁port', 903: '▁again', 904: '▁lights', 905: 'be', 906: '▁yet', 907: '45', 908: '▁her', 909: 'bri', 910: '▁replace', 911: 'ance', 912: '▁cour', 913: '▁box', 914: 'bmit', 915: 'astic', 916: 'ut', 917: '▁information', 918: '▁use', 919: 'ned', 920: '😖', 921: 'ed', 922: '▁white', 923: '59', 924: '▁recip', 925: 'mail', 926: '▁id', 927: 're', 928: '’s', 929: 'ne', 930: '▁well', 931: '▁sha', 932: '▁❤️', 933: '▁emot', 934: 'is', 935: '▁much', 936: '▁img', 937: '▁notic', 938: '▁turn', 939: '▁fo', 940: '▁also', 941: 'ig', 942: 'ick', 943: '▁loves', 944: 'ploy', 945: '▁orient', 946: 'ears', 947: '▁exper', 948: '▁material', 949: '▁app:', 950: '▁in', 951: '▁corrected', 952: 'ake', 953: '▁memories', 954: 'fied', 955: '▁mf', 956: '▁surprised', 957: 'ath', 958: '▁card', 959: '▁la', 960: 'ra', 961: 'am', 962: '▁war', 963: 'es\\r\\n', 964: \"▁i've\", 965: 'hing', 966: '▁wan', 967: '▁pic', 968: '▁haven', 969: '▁let', 970: 'ily', 971: '▁recipient', 972: '▁reach', 973: '▁pra', 974: '▁word', 975: '▁lear', 976: '▁part', 977: '▁pet', 978: '▁job', 979: '▁concern', 980: 'not', 981: '▁itself', 982: '▁pa', 983: '▁writing', 984: '▁short', 985: 'hley', 986: '▁\\ufeff', 987: 'arity', 988: 'raid', 989: 'l', 990: '▁grandmother', 991: '▁fem', 992: 'az', 993: '▁perhaps', 994: '▁phot', 995: 'ile', 996: '▁amount', 997: '▁june', 998: '▁way', 999: '▁dimens', 1000: '▁wonder', 1001: 'ct', 1002: 'af', 1003: '▁or', 1004: '▁birthday', 1005: '▁email', 1006: '▁p', 1007: 'ancé', 1008: '▁dece', 1009: '▁dog', 1010: 'n’t', 1011: '▁adjust', 1012: 'fin', 1013: '▁android\\r\\n', 1014: '▁1lt', 1015: '▁vis', 1016: '▁adv', 1017: 'eral', 1018: 'own', 1019: '▁atta', 1020: '▁who’s', 1021: '▁couple', 1022: 'llo', 1023: 'other', 1024: '▁cor', 1025: 'bl', 1026: 'ass', 1027: '▁bo', 1028: '▁off', 1029: '▁response', 1030: '▁gu', 1031: 'ar', 1032: 'uation', 1033: 'yle', 1034: '▁making', 1035: '▁hus', 1036: '▁event', 1037: 'as', 1038: 'isite', 1039: '▁present', 1040: '▁find', 1041: 'llent', 1042: '▁dark', 1043: 'la', 1044: '▁blo', 1045: '▁photos', 1046: '▁ryan', 1047: '▁ت', 1048: '▁produce', 1049: '▁lord', 1050: '▁wants', 1051: '▁where', 1052: 'at', 1053: 'ull', 1054: 'ght', 1055: 'ó', 1056: '▁hes', 1057: 'arr', 1058: '▁re', 1059: '▁annivers', 1060: '▁correct', 1061: '▁exam', 1062: 'bo', 1063: '▁them', 1064: '▁first', 1065: '▁gave', 1066: '▁appreciated', 1067: 'ket', 1068: '👍', 1069: '▁wh', 1070: '▁family', 1071: '▁process', 1072: '63', 1073: '▁lis', 1074: 'ity', 1075: '▁actually', 1076: '▁reality', 1077: 'au', 1078: '▁that', 1079: '▁ref', 1080: 'ner', 1081: '21', 1082: '19', 1083: 'emo', 1084: '▁jpg', 1085: 'les', 1086: '▁love', 1087: 'ames', 1088: '▁due', 1089: '▁boyfriend', 1090: 'icles', 1091: 'x', 1092: 'dy', 1093: '▁vincent', 1094: '▁cost', 1095: '▁beauty', 1096: 'ic', 1097: '▁gift', 1098: '▁sp', 1099: '26', 1100: '▁ord', 1101: 'vid', 1102: '▁tra', 1103: 'og', 1104: 'ith', 1105: '▁cut', 1106: 'ified', 1107: '▁addres', 1108: '▁put', 1109: '▁joseph', 1110: '▁years', 1111: '▁occ', 1112: '▁leave', 1113: '▁october', 1114: 'ch', 1115: 'lf', 1116: 'cle', 1117: '▁very', 1118: '▁|', 1119: '▁li', 1120: '▁kelly', 1121: 'sing', 1122: '▁john', 1123: '92', 1124: '▁sorry', 1125: '▁each', 1126: '▁male', 1127: 'usual', 1128: '▁only', 1129: '▁gre', 1130: '▁anthony', 1131: '▁that’s', 1132: '▁quick', 1133: 'vent', 1134: '▁on', 1135: '▁spent', 1136: '▁hey', 1137: 'ues', 1138: 'ive', 1139: '▁pictures', 1140: '▁paid', 1141: '▁mejia', 1142: 'an', 1143: '▁reviews', 1144: '▁we', 1145: '▁fabulous', 1146: '▁se', 1147: 'omer', 1148: '▁bryan', 1149: 'ber', 1150: 'f', 1151: 'reci', 1152: '▁29', 1153: 'ient', 1154: '▁track', 1155: '▁mart', 1156: '▁origin', 1157: '▁health', 1158: '▁fam', 1159: 'pic', 1160: '▁couldn’t', 1161: '▁got', 1162: '▁christmas', 1163: '▁service', 1164: 'ea', 1165: '▁me', 1166: '▁totally', 1167: '▁turned', 1168: 'ire', 1169: 'ente', 1170: '▁say', 1171: '▁notch', 1172: 'ents', 1173: '▁afternoon', 1174: 'so', 1175: '▁cons', 1176: '▁ch', 1177: 'red', 1178: '▁ever', 1179: 'lle', 1180: 'edi', 1181: '▁kimberly', 1182: '|', 1183: '▁peop', 1184: '▁soon', 1185: '▁given', 1186: '▁sam', 1187: 'ont', 1188: '▁grandm', 1189: '▁ab', 1190: '▁sure', 1191: '▁quality', 1192: 'zy', 1193: 'oman', 1194: '▁adam', 1195: \"▁can't\", 1196: 'ge', 1197: 'ward', 1198: '▁ale', 1199: '▁hope', 1200: '▁medium', 1201: '▁pics', 1202: 'ough', 1203: '▁believe', 1204: '▁appears', 1205: '▁br', 1206: '▁bottom', 1207: '▁appreci', 1208: '▁att', 1209: '▁alexand', 1210: 'ak', 1211: '▁ap', 1212: 'ر', 1213: '▁kids', 1214: 'es', 1215: ';\\r\\n', 1216: 'ady', 1217: '▁definitely', 1218: 'it', 1219: 'iday', 1220: 'ld', 1221: 'per', 1222: '”', 1223: '▁mess', 1224: 'em', 1225: 'fore', 1226: 'ather', 1227: 'ript', 1228: '▁c2isr', 1229: '46', 1230: '▁thing', 1231: '▁selected', 1232: '▁would', 1233: '▁fore', 1234: '▁da', 1235: 'mon', 1236: '▁de', 1237: 'daughter', 1238: '❤', 1239: '▁can’t', 1240: '▁deli', 1241: '▁ass', 1242: 'nt', 1243: 'fort', 1244: 'come', 1245: '▁worked', 1246: 'ale', 1247: 'ay', 1248: '▁aw', 1249: '▁jun', 1250: '▁clo', 1251: '>\\r\\n', 1252: '▁ag', 1253: '▁i’d', 1254: 'ore', 1255: 'il', 1256: '▁the', 1257: '▁already', 1258: '▁looks', 1259: 'ness', 1260: '▁they', 1261: 'aughter', 1262: 'gh', 1263: 'ically', 1264: 'ately', 1265: 'ation', 1266: '▁min', 1267: 'ame', 1268: 'ach', 1269: '▁hum', 1270: 'k', 1271: 'ope', 1272: '▁never', 1273: 'our', 1274: '▁so', 1275: '▁provide', 1276: 'very', 1277: '▁ha', 1278: '▁bri', 1279: '▁sept', 1280: '▁disc', 1281: '▁brother', 1282: '>', 1283: 'med', 1284: '▁set', 1285: 'ted', 1286: '▁amazing', 1287: 'n', 1288: 'atform', 1289: '▁general', 1290: '▁care', 1291: 'ome', 1292: 'stand', 1293: '▁positive', 1294: '▁open', 1295: '▁orig', 1296: '%', 1297: 'reat', 1298: '▁why', 1299: '▁big', 1300: 'aged', 1301: '▁if', 1302: 'cked', 1303: 'g', 1304: 'cture', 1305: '▁shipping', 1306: 'are', 1307: 'ier', 1308: '▁su', 1309: 'ift', 1310: '▁ann', 1311: 'on', 1312: 'ing', 1313: '▁fig', 1314: 'ience', 1315: '▁park', 1316: '▁text', 1317: '▁having', 1318: '▁take', 1319: '▁discount', 1320: '▁not', 1321: '▁shape', 1322: '▁address', 1323: 'iend', 1324: 'ard', 1325: '▁extremely', 1326: '’', 1327: '▁pictured', 1328: '▁world', 1329: '▁kath', 1330: '▁than', 1331: '▁full', 1332: 'ant', 1333: '▁mr', 1334: 'und', 1335: 'man', 1336: 'mend', 1337: '▁iss', 1338: '▁ipad\\r\\n', 1339: 'ond', 1340: '▁forward', 1341: 'ctly', 1342: '▁be', 1343: '▁doing', 1344: 'cei', 1345: '▁thought', 1346: 'ُ', 1347: 'er\\r\\n', 1348: '▁try', 1349: '▁thanks', 1350: '/', 1351: 'oth', 1352: '▁windows', 1353: 'iz', 1354: '▁original', 1355: '▁beard', 1356: '▁submit', 1357: 'day', 1358: 'ied', 1359: 'ud', 1360: '▁concept', 1361: 'its', 1362: '▁tw', 1363: '▁lind', 1364: '▁$1', 1365: 'loy', 1366: '▁spe', 1367: '▁back', 1368: '▁a', 1369: 'قَ', 1370: 's', 1371: '▁per', 1372: 'i', 1373: '▁safe', 1374: '▁outlook', 1375: '▁im', 1376: '▁your', 1377: '▁regular', 1378: '▁photo', 1379: '▁brian', 1380: '▁from', 1381: 'ty', 1382: '▁horrible', 1383: '“', 1384: '▁engraved', 1385: 'ote', 1386: '▁presented', 1387: '▁lake', 1388: '▁was', 1389: '▁did', 1390: '▁ph', 1391: 'ton', 1392: 'asure', 1393: '❤️', 1394: 'iting', 1395: 'ave', 1396: 'izes', 1397: 'ep', 1398: '▁examples', 1399: '▁happy', 1400: 'ound', 1401: '▁time', 1402: 'ter', 1403: '▁3d', 1404: '▁cred', 1405: '@y', 1406: '▁absolutely', 1407: '▁com\\r\\n', 1408: '▁none', 1409: '▁quest', 1410: '▁give', 1411: '▁shipment', 1412: 'na', 1413: '▁8', 1414: '▁many', 1415: 'ney', 1416: 'oing', 1417: '▁ter', 1418: '▁allows', 1419: '▁chi', 1420: 'ail', 1421: '▁bak', 1422: '▁my', 1423: 'aut', 1424: 'ened', 1425: '▁their', 1426: '▁son', 1427: 'ag', 1428: '▁wond', 1429: '▁44', 1430: '▁pre', 1431: 'ies', 1432: '▁future', 1433: '▁\\r\\n', 1434: '▁ben', 1435: '▁tit', 1436: '▁leg', 1437: '▁pleased', 1438: '▁ste', 1439: '▁any', 1440: '▁then', 1441: 'out', 1442: 'erally', 1443: 'omet', 1444: '\\n', 1445: 'ina', 1446: '▁description', 1447: '▁friday', 1448: '▁somewh', 1449: '▁pit', 1450: 'sed', 1451: '▁figure', 1452: 'cus', 1453: '▁what', 1454: '▁tears', 1455: '▁constru', 1456: '▁el', 1457: '▁fully', 1458: '▁num', 1459: 'a', 1460: '▁return', 1461: 'ful', 1462: 'ight', 1463: '▁over', 1464: '▁beautiful', 1465: '▁ti', 1466: '▁remember', 1467: 'int', 1468: 'jam', 1469: '58', 1470: 'ver', 1471: '▁whose', 1472: '▁and', 1473: '▁mother', 1474: '▁belie', 1475: '▁you\\r\\n', 1476: '▁v', 1477: 'ley', 1478: '▁rectify', 1479: 'able', 1480: '▁imp', 1481: '▁mall', 1482: \"▁i'll\", 1483: '▁pos', 1484: '▁read', 1485: '11', 1486: '▁dad', 1487: '▁said', 1488: '▁everyone', 1489: '▁of', 1490: 'ose', 1491: '▁this', 1492: 'ens', 1493: 'ocked', 1494: '▁conf', 1495: '▁kn', 1496: 'outh', 1497: '▁ex', 1498: '▁act', 1499: '▁y', 1500: '▁beaut', 1501: '▁impressed', 1502: '▁ans', 1503: '▁purpose', 1504: '▁says', 1505: '▁delivered', 1506: 'aa', 1507: '▁5', 1508: '▁rec', 1509: '▁send', 1510: 'ential', 1511: '31', 1512: '▁included', 1513: 'amaged', 1514: '▁grateful', 1515: '▁head', 1516: '▁fine', 1517: 'ا', 1518: '▁view', 1519: '▁to:', 1520: '69', 1521: '▁perman', 1522: '▁buy', 1523: '▁cent', 1524: 'w', 1525: '▁different', 1526: 'enn', 1527: '▁ver', 1528: '▁bought', 1529: '▁rotating', 1530: '▁rep', 1531: '▁otherwise', 1532: 'par', 1533: '▁is', 1534: '▁emily', 1535: '&t', 1536: 'ech', 1537: '▁exqu', 1538: 'ldren', 1539: '▁sid', 1540: 'ck”', 1541: '▁work', 1542: 'pectfully', 1543: 'll', 1544: 'nday', 1545: 'ember', 1546: '▁another', 1547: '▁qu', 1548: '▁disappointed', 1549: 'ack', 1550: '▁d', 1551: 'pped', 1552: '▁fa', 1553: 'q', 1554: '▁parents', 1555: '▁picture', 1556: '▁south', 1557: '▁share', 1558: 'tment', 1559: '▁eith', 1560: 'ris', 1561: 'eth', 1562: 'eneral', 1563: '▁both', 1564: '▁\\ufeff\\r\\n', 1565: 'berg', 1566: '▁fit', 1567: '▁trying', 1568: '▁when', 1569: 'ished', 1570: '▁line', 1571: '▁grand', 1572: '▁cannot', 1573: '▁probl', 1574: '▁received', 1575: '▁30', 1576: '▁color', 1577: '▁rus', 1578: '▁outcome', 1579: 'aking', 1580: '01', 1581: '▁brend', 1582: '▁o', 1583: '▁respon', 1584: '▁mailed', 1585: '▁fabul', 1586: '▁november', 1587: '▁7', 1588: '▁image', 1589: '468', 1590: 'ving', 1591: 'eded', 1592: 'pe', 1593: '▁sa', 1594: '▁young', 1595: '▁being', 1596: '▁gal', 1597: 'cific', 1598: '▁friend', 1599: '▁options', 1600: '▁tre', 1601: '55', 1602: 'pt', 1603: 'ul', 1604: '▁lovely', 1605: '▁ell', 1606: '$', 1607: '▁shown', 1608: 'sa', 1609: '▁wish', 1610: '2', 1611: \"▁i'\", 1612: '#', 1613: '▁some', 1614: '▁giving', 1615: ':', 1616: '▁oth', 1617: '▁page', 1618: '▁morning', 1619: 'ل', 1620: '▁number', 1621: '▁mo', 1622: '▁ri', 1623: 'ommend', 1624: '▁tot', 1625: 'ais', 1626: '▁suppo', 1627: '▁name', 1628: '▁top', 1629: '▁connect', 1630: 'ting', 1631: '▁po', 1632: '▁sir', 1633: '▁new', 1634: 'low', 1635: '▁want', 1636: 'ating', 1637: 'yl', 1638: '▁recently', 1639: \"'t\", 1640: '▁70', 1641: '▁lumin', 1642: '▁timely', 1643: '▁det', 1644: 'te', 1645: 'anie', 1646: '▁month', 1647: '▁mel', 1648: 'ق', 1649: '@', 1650: 'ent', 1651: 'veral', 1652: '▁around', 1653: '6', 1654: 'ured', 1655: '▁bre', 1656: 'j', 1657: '▁old', 1658: '▁speak', 1659: 'ج', 1660: '▁nor', 1661: '▁resol', 1662: '▁purchasing', 1663: '▁larg', 1664: '▁make', 1665: 'ren', 1666: '▁side', 1667: '▁piece', 1668: '▁fir', 1669: '▁int', 1670: 'medi', 1671: '▁front', 1672: '▁notice', 1673: '▁has', 1674: '▁post', 1675: '▁sin', 1676: '▁conta', 1677: '▁sim', 1678: '▁tma', 1679: 'ality', 1680: 'tter', 1681: '▁understand', 1682: 'ased', 1683: '▁works', 1684: '▁test', 1685: '▁object', 1686: '▁nice', 1687: '▁en', 1688: 'pping', 1689: '▁lit', 1690: '▁wor', 1691: '87', 1692: '▁now', 1693: 'ause', 1694: '▁sh', 1695: 'ci', 1696: '▁sor', 1697: '▁afterno', 1698: '▁although', 1699: '▁opt', 1700: '▁ent', 1701: 'stru', 1702: '▁week', 1703: '<unk>', 1704: '▁fr', 1705: '▁order', 1706: '▁point', 1707: 'ieved', 1708: '▁platform', 1709: '▁door', 1710: 'vis', 1711: '▁plan', 1712: '▁ps', 1713: '▁lo', 1714: 'ad', 1715: '▁few', 1716: '▁andro', 1717: 'ever', 1718: 'eared', 1719: '▁purchase', 1720: '▁passed', 1721: 'for', 1722: 'thday', 1723: '▁regards', 1724: 'icult', 1725: '▁base', 1726: '▁mich', 1727: 'son', 1728: '54', 1729: '▁disappointment', 1730: 'phone', 1731: 'ie', 1732: 'ist', 1733: 'ى', 1734: 'yond', 1735: 'you', 1736: '▁5911', 1737: 'ould', 1738: '▁kim', 1739: '▁ret', 1740: 'ly', 1741: '▁into', 1742: 'و', 1743: '▁truly', 1744: 'ning', 1745: '60', 1746: '▁ne', 1747: '!', 1748: '▁wow', 1749: '3', 1750: '\\r', 1751: '▁wonderful', 1752: '39', 1753: 'ide', 1754: 'table', 1755: 'ro', 1756: 'p', 1757: '▁but', 1758: '▁descript', 1759: 'oy', 1760: '▁christ', 1761: '▁wr', 1762: 'jia', 1763: 'eak', 1764: '▁tree', 1765: '▁must', 1766: '▁choo', 1767: 'ych', 1768: '▁these', 1769: '▁ago', 1770: '▁2nd', 1771: '▁david', 1772: '▁james', 1773: '@g', 1774: 'ony', 1775: '▁expecting', 1776: 'umin', 1777: '▁choose', 1778: 'th', 1779: '▁stand', 1780: '▁2020', 1781: '▁black', 1782: '▁inform', 1783: 'pad', 1784: 'ious', 1785: '▁father', 1786: '▁sooo', 1787: '▁cell', 1788: 'my', 1789: '▁bl', 1790: '▁requ', 1791: '67', 1792: 'عل', 1793: '▁went', 1794: 'emp', 1795: '▁looking', 1796: '▁excellent', 1797: 'lete', 1798: '▁devast', 1799: '▁contin', 1800: '▁yest', 1801: '▁orders', 1802: '▁opened', 1803: '▁under', 1804: '😭', 1805: '▁21', 1806: '▁ear', 1807: '▁really', 1808: '▁af', 1809: '▁grandma', 1810: '▁don', 1811: 'date', 1812: '▁about', 1813: '▁jim', 1814: '▁gl', 1815: 'cript', 1816: '22', 1817: 'un', 1818: 'ndered', 1819: '▁sus', 1820: '▁reg', 1821: '▁after', 1822: '▁request', 1823: '▁567', 1824: '▁absol', 1825: '▁perfect', 1826: 'sive', 1827: 'ost', 1828: '▁ios', 1829: '▁happ', 1830: '▁may', 1831: '▁قَ', 1832: '▁cherish', 1833: 'ely', 1834: 'lt', 1835: 'u', 1836: 'ur', 1837: 'xl', 1838: 'olog', 1839: '▁wanted', 1840: '▁i’', 1841: '▁merr', 1842: 'ال', 1843: 'ind', 1844: '▁christoph', 1845: '▁limit', 1846: 'urt', 1847: '▁tammy', 1848: 'uch', 1849: '20', 1850: '77', 1851: 'ark', 1852: 'though', 1853: '▁one', 1854: 'ue', 1855: '▁cli', 1856: '▁memor', 1857: '▁jpe', 1858: 'oph', 1859: 'ates', 1860: 'mber', 1861: '▁away', 1862: 'ect', 1863: 'ok', 1864: 'om', 1865: '/20', 1866: '▁cra', 1867: '▁har', 1868: 'ork', 1869: 'akes', 1870: 'ou', 1871: 'ry', 1872: '▁recei', 1873: '84', 1874: '▁deal', 1875: '▁friends', 1876: '▁guy', 1877: 'fully', 1878: '▁it’ll', 1879: '▁wed', 1880: 'reet', 1881: '▁message', 1882: 'el', 1883: 'dd', 1884: '▁rendered', 1885: '▁barely', 1886: '▁dear', 1887: '▁smaller', 1888: 'itch', 1889: '▁show', 1890: '▁best', 1891: 'wh', 1892: '▁sist', 1893: '▁hop', 1894: '▁its', 1895: \"'\", 1896: '▁no', 1897: '▁condition', 1898: '▁second', 1899: '▁most', 1900: '▁ad', 1901: 'yes', 1902: 'pport', 1903: '▁expect', 1904: 'view', 1905: '▁site', 1906: '▁ups', 1907: '▁sar', 1908: '▁cynth', 1909: '▁large', 1910: 'lie', 1911: 'ell', 1912: '▁cat', 1913: '▁gifting', 1914: '▁bare', 1915: '▁husband', 1916: '▁law', 1917: 'wn', 1918: '▁names', 1919: 'with', 1920: '▁t', 1921: '▁2', 1922: 'opped', 1923: '▁light', 1924: '▁several', 1925: 'ids', 1926: '▁6', 1927: '▁up', 1928: '▁result', 1929: '▁more', 1930: '▁rot', 1931: '️', 1932: '▁sending', 1933: '▁much\\r\\n', 1934: '▁fel', 1935: '▁mone', 1936: '▁hardly', 1937: '▁amazing\\r\\n', 1938: 'hap', 1939: '▁rect', 1940: '▁weeks', 1941: 'nded', 1942: '▁pri', 1943: 'ions', 1944: '▁note', 1945: '▁wa', 1946: 'uz', 1947: '▁as', 1948: '▁immedi', 1949: 'vice', 1950: 'ary', 1951: '▁com', 1952: 'ere', 1953: 'fe', 1954: 'wer', 1955: '▁purchased', 1956: '▁gone', 1957: '▁sm', 1958: 'qu', 1959: '▁thankyou', 1960: 'ued', 1961: '▁it', 1962: 'ood', 1963: '▁gir', 1964: 'isfied', 1965: '▁behind', 1966: '▁brought', 1967: '▁for', 1968: '▁he', 1969: 'ish', 1970: '▁soooo', 1971: '▁bott', 1972: \"▁didn't\", 1973: '▁quickly', 1974: '▁4', 1975: 'd', 1976: '▁myself', 1977: '▁money', 1978: '64', 1979: '▁shi', 1980: '▁shad', 1981: 'vin', 1982: 'ink', 1983: '0', 1984: '▁hor', 1985: 'b', 1986: 'thing', 1987: '▁shows', 1988: '▁wid', 1989: '911', 1990: 'wise', 1991: '▁which', 1992: '▁whom', 1993: '▁smith', 1994: '▁hello', 1995: 'appo', 1996: '▁9', 1997: '▁allen', 1998: '▁him', 1999: 'ence'}\n",
      "2000\n"
     ]
    }
   ],
   "source": [
    "# Get the embedding layer from the model (i.e. first layer)\n",
    "embedding_layer = model_lstm.layers[0]\n",
    "\n",
    "# Get the weights of the embedding layer\n",
    "embedding_weights = embedding_layer.get_weights()[0]\n",
    "\n",
    "# Print the shape. Expected is (vocab_size, embedding_dim)\n",
    "print(embedding_weights.shape) \n",
    "\n",
    "reverse_word_index = {i: token for i, token in enumerate(BPE_sentence_tokenizer.get_vocab())}\n",
    "print(reverse_word_index)\n",
    "print(len(reverse_word_index))\n",
    "\n",
    "# Get the index-word dictionary\n"
   ]
  },
  {
   "cell_type": "code",
   "execution_count": 120,
   "metadata": {},
   "outputs": [],
   "source": [
    "import io\n",
    "\n",
    "# Open writeable files\n",
    "out_v = io.open('vecs.tsv', 'w', encoding='utf-8')\n",
    "out_m = io.open('meta.tsv', 'w', encoding='utf-8')\n",
    "\n",
    "# Initialize the loop. Start counting at `1` because `0` is just for the padding\n",
    "for word_num in range(1, vocab_size):\n",
    "\n",
    "  # Get the word associated at the current index\n",
    "  word_name = reverse_word_index[word_num]\n",
    "\n",
    "  # Get the embedding weights associated with the current index\n",
    "  word_embedding = embedding_weights[word_num]\n",
    "\n",
    "  # Write the word name\n",
    "  out_m.write(word_name + \"\\n\")\n",
    "\n",
    "  # Write the word embedding\n",
    "  out_v.write('\\t'.join([str(x) for x in word_embedding]) + \"\\n\")\n",
    "\n",
    "# Close the files\n",
    "out_v.close()\n",
    "out_m.close()"
   ]
  },
  {
   "cell_type": "code",
   "execution_count": 124,
   "metadata": {},
   "outputs": [
    {
     "name": "stdout",
     "output_type": "stream",
     "text": [
      "[[727  83   5   2  47   6]]\n",
      "[[0.64021915]]\n",
      "1\n"
     ]
    }
   ],
   "source": [
    "seed_text = \"Super Good and i like it\"\n",
    "token_list = tokenizer.texts_to_sequences([seed_text])[0]\n",
    "token_list = pad_sequences([token_list], padding='pre')\n",
    "print(token_list)\n",
    "# Feed to the model and get the probabilities for each index\n",
    "probabilities = model_lstm.predict(token_list, verbose=0)\n",
    "# Get the index with the highest probability\n",
    "predicted = np.argmax(probabilities, axis=-2)\n",
    "print(probabilities)\n",
    "if probabilities[0][0]>0.5:\n",
    "    print(\"1\")\n",
    "else:\n",
    "    print(\"0\")"
   ]
  },
  {
   "cell_type": "markdown",
   "metadata": {},
   "source": [
    "GPT vesion below"
   ]
  },
  {
   "cell_type": "code",
   "execution_count": 127,
   "metadata": {},
   "outputs": [
    {
     "name": "stdout",
     "output_type": "stream",
     "text": [
      "1/1 [==============================] - 0s 28ms/step\n",
      "Predicted Sentiment: positive (Probability: 0.8725206255912781)\n"
     ]
    }
   ],
   "source": [
    "input_sentence = \"My boyfriend bought me flowers today. They were very beautiful, but I had to spend the whole day outside. When I came home, they were already flabby. So I don’t like the quality of flowers in that shop.\"\n",
    "\n",
    "# Preprocess the sentence (lowercase, tokenize, and pad)\n",
    "input_sequence = BPE_sentence_tokenizer.encode(input_sentence).ids\n",
    "input_sequence = pad_sequences([input_sequence], maxlen=max_length_num, padding='pre')\n",
    "\n",
    "# Make a prediction\n",
    "predicted_probability = model_lstm.predict(input_sequence)\n",
    "\n",
    "# Interpret the prediction (assuming binary classification)\n",
    "if predicted_probability > 0.5:\n",
    "    sentiment = \"positive\"\n",
    "else:\n",
    "    sentiment = \"negative\"\n",
    "\n",
    "print(f\"Predicted Sentiment: {sentiment} (Probability: {predicted_probability[0][0]})\")\n",
    "\n"
   ]
  },
  {
   "cell_type": "code",
   "execution_count": 130,
   "metadata": {},
   "outputs": [
    {
     "name": "stdout",
     "output_type": "stream",
     "text": [
      "INFO:tensorflow:Assets written to: ./my_trained_model\\assets\n"
     ]
    },
    {
     "name": "stderr",
     "output_type": "stream",
     "text": [
      "INFO:tensorflow:Assets written to: ./my_trained_model\\assets\n"
     ]
    }
   ],
   "source": [
    "# Assuming you have trained your model and stored it in the `model_lstm` variable\n",
    "# Specify the path where you want to save the model\n",
    "model_save_path = './my_trained_model'\n",
    "\n",
    "# Save the model\n",
    "model_lstm.save(model_save_path)\n",
    "\n"
   ]
  },
  {
   "cell_type": "code",
   "execution_count": 131,
   "metadata": {},
   "outputs": [
    {
     "data": {
      "text/plain": [
       "('./my_tokenizer\\\\tokenizer_config.json',\n",
       " './my_tokenizer\\\\special_tokens_map.json',\n",
       " './my_tokenizer\\\\vocab.json',\n",
       " './my_tokenizer\\\\merges.txt',\n",
       " './my_tokenizer\\\\added_tokens.json',\n",
       " './my_tokenizer\\\\tokenizer.json')"
      ]
     },
     "execution_count": 131,
     "metadata": {},
     "output_type": "execute_result"
    }
   ],
   "source": [
    "from transformers import BertTokenizerFast\n",
    "\n",
    "new_tokenizer = BertTokenizerFast(tokenizer_object=BPE_sentence_tokenizer)\n",
    "new_tokenizer.save_pretrained('./my_tokenizer')\n"
   ]
  },
  {
   "cell_type": "code",
   "execution_count": 141,
   "metadata": {},
   "outputs": [
    {
     "name": "stdout",
     "output_type": "stream",
     "text": [
      "[246]\n"
     ]
    }
   ],
   "source": [
    "word_to_find = \"disappointed\"\n",
    "\n",
    "# Encode the word to get its ID\n",
    "encoded_word = new_tokenizer.encode(word_to_find)\n",
    "print(encoded_word)"
   ]
  }
 ],
 "metadata": {
  "kernelspec": {
   "display_name": "Python 3",
   "language": "python",
   "name": "python3"
  },
  "language_info": {
   "codemirror_mode": {
    "name": "ipython",
    "version": 3
   },
   "file_extension": ".py",
   "mimetype": "text/x-python",
   "name": "python",
   "nbconvert_exporter": "python",
   "pygments_lexer": "ipython3",
   "version": "3.11.4"
  },
  "orig_nbformat": 4
 },
 "nbformat": 4,
 "nbformat_minor": 2
}
