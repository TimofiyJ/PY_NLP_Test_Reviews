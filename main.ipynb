{
 "cells": [
  {
   "cell_type": "code",
   "execution_count": 210,
   "metadata": {},
   "outputs": [],
   "source": [
    "import pandas as pd # dataframes and csv\n",
    "import numpy as np # linear algebra\n",
    "import sklearn as sk # data maniputation\n",
    "import matplotlib.pyplot as plt # data visualization\n",
    "import re # regular expressions for the text\n",
    "import tensorflow as tf # for ML\n",
    "\n",
    "\n",
    "from sklearn.model_selection import train_test_split\n",
    "from tensorflow.keras.preprocessing.text import Tokenizer\n",
    "from tensorflow.keras.preprocessing.sequence import pad_sequences\n",
    "from transformers import BertTokenizer\n",
    "from tokenizers import SentencePieceBPETokenizer\n",
    "#from tensorflow_text.tools.wordpiece_vocab import bert_vocab_from_dataset as bert_vocab\n",
    "\n"
   ]
  },
  {
   "cell_type": "code",
   "execution_count": 211,
   "metadata": {},
   "outputs": [
    {
     "name": "stdout",
     "output_type": "stream",
     "text": [
      "                                                  text sentiment\n",
      "0    Hi Leah, I ordered this early to give to a co-...  Positive\n",
      "1    Good evening, \\n  I just received my order! I ...  Positive\n",
      "2    I couldn’t find where I could write a review b...  Positive\n",
      "3    I received my order today and gave it to my si...  Positive\n",
      "4    ﻿Max,\\n\\nWe received the heart but sadly are d...  Negative\n",
      "..                                                 ...       ...\n",
      "249    Thank you, this is beautiful and they loved it.  Positive\n",
      "250                    Thanks so much. They lookgreat!  Positive\n",
      "251  Emily, \\n  THANK YOU so much for the new “bric...  Positive\n",
      "252  Jacqueline,  \\n  I just received the replaceme...  Positive\n",
      "253  Order #(857)982-509708\\nI just received my ord...  Positive\n",
      "\n",
      "[254 rows x 2 columns]\n"
     ]
    },
    {
     "data": {
      "image/png": "[encoded data removed]",
      "text/plain": [
       "<Figure size 640x480 with 1 Axes>"
      ]
     },
     "metadata": {},
     "output_type": "display_data"
    }
   ],
   "source": [
    "labels = pd.read_csv(\"./data/labels.csv\")\n",
    "reviews = pd.read_csv(\"./data/reviews.csv\")\n",
    "\n",
    "reviews = reviews.merge(labels,\"outer\",\"id\")\n",
    "dataset = reviews.drop(labels = \"id\",axis=1)\n",
    "print(dataset)\n",
    "\n",
    "\n",
    "\n",
    "dataset[\"sentiment\"].value_counts().plot(kind='bar', title='Classes distribution')\n",
    "count_positive = len([i for i in dataset[\"sentiment\"] if i==\"Positive\"])\n",
    "count_negative = len([i for i in dataset[\"sentiment\"] if i==\"Negative\"])\n",
    "plt.text(0,count_positive,str(count_positive))\n",
    "plt.text(1,count_negative,str(count_negative))\n",
    "plt.show()\n"
   ]
  },
  {
   "cell_type": "markdown",
   "metadata": {},
   "source": [
    "Negative to Positive ratio is okay. No need to fix training and testing datasets manualy"
   ]
  },
  {
   "cell_type": "code",
   "execution_count": 212,
   "metadata": {},
   "outputs": [
    {
     "name": "stdout",
     "output_type": "stream",
     "text": [
      "266\n",
      "2488\n",
      "AVG LENGTH: 303.0\n"
     ]
    }
   ],
   "source": [
    "#Finding the vocab size\n",
    "words = []\n",
    "delimiters = [\",\", \")\", \"(\"]\n",
    "max_length = []\n",
    "\n",
    "for i in dataset[\"text\"]:\n",
    "    i = re.split(r'[,\\s!?()._\\-]+', i)\n",
    "    i = [j for j in i if j is not None and j!=\"\"]\n",
    "    max_length.append(len(i))\n",
    "    for j in i:\n",
    "\n",
    "        words.append(j)\n",
    "words = list(set(words))\n",
    "print(max(max_length))\n",
    "print(len(words))\n",
    "print(\"AVG LENGTH: \" + str(np.array([len(i) for i in dataset[\"text\"]]).mean()))"
   ]
  },
  {
   "cell_type": "code",
   "execution_count": 213,
   "metadata": {},
   "outputs": [],
   "source": [
    "train, test = train_test_split(dataset, test_size=0.3, random_state=42, shuffle=True)\n",
    "\n",
    "training_sentences = []\n",
    "training_labels = []\n",
    "\n",
    "testing_sentences = []\n",
    "testing_labels = []\n",
    "\n",
    "# Loop over all training examples and save the sentences and labels\n",
    "for t in train[\"text\"]:\n",
    "  training_sentences.append(t)\n",
    "\n",
    "for s in train[\"sentiment\"]:\n",
    "  if s == \"Positive\": # Redo the labels so the processing is faster \n",
    "    training_labels.append(1)\n",
    "  else:\n",
    "    training_labels.append(0)\n",
    "\n",
    "# Loop over all test examples and save the sentences and labels\n",
    "for t in test[\"text\"]:\n",
    "  testing_sentences.append(t)\n",
    "\n",
    "for s in test[\"sentiment\"]:\n",
    "  if s == \"Positive\": # Redo the labels so the processing is faster \n",
    "    testing_labels.append(1)\n",
    "  else:\n",
    "    testing_labels.append(0)\n",
    "\n",
    "# Convert labels lists to numpy array\n",
    "training_labels_final = np.array(training_labels)\n",
    "testing_labels_final = np.array(testing_labels)\n",
    "\n"
   ]
  },
  {
   "cell_type": "markdown",
   "metadata": {},
   "source": [
    "Tokenizing subwords"
   ]
  },
  {
   "cell_type": "code",
   "execution_count": null,
   "metadata": {},
   "outputs": [],
   "source": []
  },
  {
   "cell_type": "code",
   "execution_count": 214,
   "metadata": {},
   "outputs": [
    {
     "name": "stdout",
     "output_type": "stream",
     "text": [
      "51\n"
     ]
    }
   ],
   "source": [
    "with open(\"text.txt\", \"w\", encoding=\"utf-8\") as f:\n",
    "    for sentence in dataset[\"text\"]:\n",
    "        f.write(sentence+\"\\n\")\n",
    "    f.close()\n",
    "\n",
    "BPE_sentence_tokenizer = SentencePieceBPETokenizer()\n",
    "BPE_sentence_tokenizer.train(\"text.txt\",vocab_size=1000)\n",
    "encoded_texts = [BPE_sentence_tokenizer.encode(text).ids for text in dataset[\"text\"]]\n",
    "# Pad the sequences to a consistent length\n",
    "max_sequence_length = 50  # Adjust this based on your dataset\n",
    "X = pad_sequences(encoded_texts, maxlen=max_sequence_length, padding='pre')\n",
    "label_mapping = {\"Positive\": 1, \"Negative\": 0}\n",
    "encoded_labels = [label_mapping[label] for label in dataset[\"sentiment\"]]\n",
    "y = np.array(encoded_labels)\n",
    "\n",
    "# Split your data into training and validation sets\n",
    "X_train, X_val, y_train, y_val = train_test_split(X, y, test_size=0.2, random_state=42)\n",
    "print(len(y_val))"
   ]
  },
  {
   "cell_type": "markdown",
   "metadata": {},
   "source": [
    "Tokenizing words"
   ]
  },
  {
   "cell_type": "code",
   "execution_count": null,
   "metadata": {},
   "outputs": [],
   "source": []
  },
  {
   "cell_type": "code",
   "execution_count": 215,
   "metadata": {},
   "outputs": [
    {
     "name": "stdout",
     "output_type": "stream",
     "text": [
      "number of words in word_index: 1755\n",
      "[1 1 1 1 1 0 1 0 0 1 1 1 0 1 1 0 0 1 0 1 1 1 0 1 0 0 1 0 0 0 0 1 1 1 1 1 1\n",
      " 1 1 1 0 0 1 1 1 1 0 0 0 0 1 0 1 0 0 0 0 0 0 0 1 1 1 0 1 1 1 1 0 1 0 0 0 0\n",
      " 0 1 1 1 0 1 1 1 0 0 0 1 1 0 0 1 0 1 1 1 0 1 1 0 0 0 1 0 0 1 1 1 1 1 0 0 1\n",
      " 0 1 0 1 1 1 1 1 1 1 1 1 1 1 1 0 1 1 0 1 1 0 0 0 0 1 1 1 0 0 1 1 0 0 1 0 1\n",
      " 0 1 1 0 1 1 1 1 0 0 0 0 0 1 0 0 1 0 1 1 1 1 0 1 1 0 1 1 0]\n"
     ]
    }
   ],
   "source": [
    "# Parameters\n",
    "vocab_size = 1000\n",
    "trunc_type='post'\n",
    "oov_tok = \"<OOV>\"\n",
    "\n",
    "# Initialize the Tokenizer class\n",
    "tokenizer = Tokenizer(num_words = vocab_size, oov_token=oov_tok)\n",
    "\n",
    "# Generate the word index dictionary for the training sentences\n",
    "tokenizer.fit_on_texts(training_sentences)\n",
    "word_index = tokenizer.word_index\n",
    "print(f'number of words in word_index: {len(word_index)}')\n",
    "\n",
    "\n",
    "# Generate and pad the training sequences\n",
    "sequences = tokenizer.texts_to_sequences(training_sentences)\n",
    "padded = pad_sequences(sequences, truncating=trunc_type)\n",
    "\n",
    "# Generate and pad the test sequences\n",
    "testing_sequences = tokenizer.texts_to_sequences(testing_sentences)\n",
    "testing_padded = pad_sequences(testing_sequences)\n",
    "print(training_labels_final)"
   ]
  },
  {
   "cell_type": "code",
   "execution_count": 216,
   "metadata": {},
   "outputs": [],
   "source": [
    "# Plot Utility\n",
    "def plot_graphs(history, string):\n",
    "  plt.plot(history.history[string])\n",
    "  plt.plot(history.history['val_'+string])\n",
    "  plt.xlabel(\"Epochs\")\n",
    "  plt.ylabel(string)\n",
    "  plt.legend([string, 'val_'+string])\n",
    "  plt.show()"
   ]
  },
  {
   "cell_type": "code",
   "execution_count": 217,
   "metadata": {},
   "outputs": [
    {
     "name": "stdout",
     "output_type": "stream",
     "text": [
      "Model: \"sequential_21\"\n",
      "_________________________________________________________________\n",
      " Layer (type)                Output Shape              Param #   \n",
      "=================================================================\n",
      " embedding_21 (Embedding)    (None, None, 8)           8000      \n",
      "                                                                 \n",
      " bidirectional_21 (Bidirect  (None, 32)                3200      \n",
      " ional)                                                          \n",
      "                                                                 \n",
      " dropout_21 (Dropout)        (None, 32)                0         \n",
      "                                                                 \n",
      " dense_42 (Dense)            (None, 6)                 198       \n",
      "                                                                 \n",
      " dense_43 (Dense)            (None, 1)                 7         \n",
      "                                                                 \n",
      "=================================================================\n",
      "Total params: 11405 (44.55 KB)\n",
      "Trainable params: 11405 (44.55 KB)\n",
      "Non-trainable params: 0 (0.00 Byte)\n",
      "_________________________________________________________________\n"
     ]
    }
   ],
   "source": [
    "# Parameters\n",
    "embedding_dim = 8\n",
    "lstm_dim = 16\n",
    "dense_dim = 6\n",
    "\n",
    "# Model Definition with LSTM\n",
    "model_lstm = tf.keras.Sequential([\n",
    "    tf.keras.layers.Embedding(vocab_size, embedding_dim),\n",
    "    tf.keras.layers.Bidirectional(tf.keras.layers.LSTM(lstm_dim)),\n",
    "    tf.keras.layers.Dropout(.8),\n",
    "    tf.keras.layers.Dense(dense_dim, activation='relu'),\n",
    "    tf.keras.layers.Dense(1, activation='sigmoid')\n",
    "])\n",
    "\n",
    "optimizer = tf.keras.optimizers.Adam(learning_rate=0.008)\n",
    "\n",
    "# Set the training parameters\n",
    "model_lstm.compile(loss='binary_crossentropy',optimizer=optimizer,metrics=['accuracy'])\n",
    "\n",
    "# Print the model summary\n",
    "model_lstm.summary()"
   ]
  },
  {
   "cell_type": "code",
   "execution_count": 218,
   "metadata": {},
   "outputs": [
    {
     "name": "stdout",
     "output_type": "stream",
     "text": [
      "Epoch 1/15\n",
      "2/2 [==============================] - 6s 1s/step - loss: 0.6921 - accuracy: 0.5271 - val_loss: 0.6784 - val_accuracy: 0.6863\n",
      "Epoch 2/15\n",
      "2/2 [==============================] - 0s 74ms/step - loss: 0.6829 - accuracy: 0.5764 - val_loss: 0.6569 - val_accuracy: 0.6863\n",
      "Epoch 3/15\n",
      "2/2 [==============================] - 0s 76ms/step - loss: 0.6726 - accuracy: 0.5764 - val_loss: 0.6284 - val_accuracy: 0.6863\n",
      "Epoch 4/15\n",
      "2/2 [==============================] - 0s 91ms/step - loss: 0.6702 - accuracy: 0.5764 - val_loss: 0.6046 - val_accuracy: 0.6863\n",
      "Epoch 5/15\n",
      "2/2 [==============================] - 0s 81ms/step - loss: 0.6447 - accuracy: 0.5764 - val_loss: 0.5784 - val_accuracy: 0.6863\n",
      "Epoch 6/15\n",
      "2/2 [==============================] - 0s 80ms/step - loss: 0.6217 - accuracy: 0.5764 - val_loss: 0.5547 - val_accuracy: 0.6863\n",
      "Epoch 7/15\n",
      "2/2 [==============================] - 0s 94ms/step - loss: 0.5923 - accuracy: 0.6108 - val_loss: 0.5261 - val_accuracy: 0.6863\n",
      "Epoch 8/15\n",
      "2/2 [==============================] - 0s 96ms/step - loss: 0.5292 - accuracy: 0.6453 - val_loss: 0.4156 - val_accuracy: 0.6863\n",
      "Epoch 9/15\n",
      "2/2 [==============================] - 0s 89ms/step - loss: 0.4850 - accuracy: 0.6650 - val_loss: 0.4161 - val_accuracy: 0.8235\n",
      "Epoch 10/15\n",
      "2/2 [==============================] - 0s 106ms/step - loss: 0.4276 - accuracy: 0.8030 - val_loss: 0.4473 - val_accuracy: 0.8235\n",
      "Epoch 11/15\n",
      "2/2 [==============================] - 0s 81ms/step - loss: 0.3728 - accuracy: 0.8571 - val_loss: 0.4440 - val_accuracy: 0.8039\n",
      "Epoch 12/15\n",
      "2/2 [==============================] - 0s 80ms/step - loss: 0.4085 - accuracy: 0.9064 - val_loss: 0.4841 - val_accuracy: 0.7255\n",
      "Epoch 13/15\n",
      "2/2 [==============================] - 0s 73ms/step - loss: 0.3340 - accuracy: 0.9113 - val_loss: 0.4728 - val_accuracy: 0.7059\n",
      "Epoch 14/15\n",
      "2/2 [==============================] - 0s 82ms/step - loss: 0.3085 - accuracy: 0.9212 - val_loss: 0.4561 - val_accuracy: 0.6863\n",
      "Epoch 15/15\n",
      "2/2 [==============================] - 0s 96ms/step - loss: 0.2443 - accuracy: 0.9261 - val_loss: 0.3926 - val_accuracy: 0.8431\n"
     ]
    }
   ],
   "source": [
    "NUM_EPOCHS = 15\n",
    "BATCH_SIZE = 128\n",
    "\n",
    "# Train the model\n",
    "history_lstm = model_lstm.fit(X_train, y_train, batch_size=BATCH_SIZE, epochs=NUM_EPOCHS, validation_data=(X_val, y_val))"
   ]
  },
  {
   "cell_type": "code",
   "execution_count": 219,
   "metadata": {},
   "outputs": [
    {
     "data": {
      "image/png": "[encoded data removed]",
      "text/plain": [
       "<Figure size 640x480 with 1 Axes>"
      ]
     },
     "metadata": {},
     "output_type": "display_data"
    },
    {
     "data": {
      "image/png": "[encoded data removed]",
      "text/plain": [
       "<Figure size 640x480 with 1 Axes>"
      ]
     },
     "metadata": {},
     "output_type": "display_data"
    }
   ],
   "source": [
    "# Plot the accuracy and loss history\n",
    "plot_graphs(history_lstm, 'accuracy')\n",
    "plot_graphs(history_lstm, 'loss')"
   ]
  },
  {
   "cell_type": "code",
   "execution_count": 220,
   "metadata": {},
   "outputs": [
    {
     "name": "stdout",
     "output_type": "stream",
     "text": [
      "(1000, 8)\n"
     ]
    }
   ],
   "source": [
    "# Get the embedding layer from the model (i.e. first layer)\n",
    "embedding_layer = model_lstm.layers[0]\n",
    "\n",
    "# Get the weights of the embedding layer\n",
    "embedding_weights = embedding_layer.get_weights()[0]\n",
    "\n",
    "# Print the shape. Expected is (vocab_size, embedding_dim)\n",
    "print(embedding_weights.shape) \n",
    "\n",
    "# Get the index-word dictionary\n",
    "reverse_word_index = tokenizer.index_word\n"
   ]
  },
  {
   "cell_type": "code",
   "execution_count": 221,
   "metadata": {},
   "outputs": [],
   "source": [
    "import io\n",
    "\n",
    "# Open writeable files\n",
    "out_v = io.open('vecs.tsv', 'w', encoding='utf-8')\n",
    "out_m = io.open('meta.tsv', 'w', encoding='utf-8')\n",
    "\n",
    "# Initialize the loop. Start counting at `1` because `0` is just for the padding\n",
    "for word_num in range(1, vocab_size):\n",
    "\n",
    "  # Get the word associated at the current index\n",
    "  word_name = reverse_word_index[word_num]\n",
    "\n",
    "  # Get the embedding weights associated with the current index\n",
    "  word_embedding = embedding_weights[word_num]\n",
    "\n",
    "  # Write the word name\n",
    "  out_m.write(word_name + \"\\n\")\n",
    "\n",
    "  # Write the word embedding\n",
    "  out_v.write('\\t'.join([str(x) for x in word_embedding]) + \"\\n\")\n",
    "\n",
    "# Close the files\n",
    "out_v.close()\n",
    "out_m.close()"
   ]
  },
  {
   "cell_type": "code",
   "execution_count": 222,
   "metadata": {},
   "outputs": [
    {
     "name": "stdout",
     "output_type": "stream",
     "text": [
      "[[0.46184245]]\n",
      "0\n"
     ]
    }
   ],
   "source": [
    "seed_text = \"I bought that beer yesterday. It was terrible. Waiter said, it would be sour - sweet tasted, but i felt nothing but I bitterness. I will never come to that bar again.\"\n",
    "token_list = tokenizer.texts_to_sequences([seed_text])[0]\n",
    "token_list = pad_sequences([token_list], padding='pre')\n",
    "# Feed to the model and get the probabilities for each index\n",
    "probabilities = model_lstm.predict(token_list, verbose=0)\n",
    "# Get the index with the highest probability\n",
    "predicted = np.argmax(probabilities, axis=-2)\n",
    "print(probabilities)\n",
    "if probabilities[0][0]>0.5:\n",
    "    print(\"1\")\n",
    "else:\n",
    "    print(\"0\")"
   ]
  },
  {
   "cell_type": "markdown",
   "metadata": {},
   "source": [
    "GPT vesion below"
   ]
  },
  {
   "cell_type": "code",
   "execution_count": 223,
   "metadata": {},
   "outputs": [
    {
     "name": "stdout",
     "output_type": "stream",
     "text": [
      "1/1 [==============================] - 1s 777ms/step\n",
      "Predicted Sentiment: positive (Probability: 0.756713330745697)\n"
     ]
    }
   ],
   "source": [
    "input_sentence = \"I bought this burger three hours ago. It’s my favourite burger of all times! I’ve eaten millions, but i had never tasted something more delicious than bigmac. I truly recommend it to everyone!\"\n",
    "\n",
    "# Preprocess the sentence (lowercase, tokenize, and pad)\n",
    "input_sequence = BPE_sentence_tokenizer.encode(input_sentence).ids\n",
    "input_sequence = pad_sequences([input_sequence], maxlen=max_sequence_length, padding='pre')\n",
    "\n",
    "# Make a prediction\n",
    "predicted_probability = model_lstm.predict(input_sequence)\n",
    "\n",
    "# Interpret the prediction (assuming binary classification)\n",
    "if predicted_probability > 0.5:\n",
    "    sentiment = \"positive\"\n",
    "else:\n",
    "    sentiment = \"negative\"\n",
    "\n",
    "print(f\"Predicted Sentiment: {sentiment} (Probability: {predicted_probability[0][0]})\")\n",
    "\n"
   ]
  }
 ],
 "metadata": {
  "kernelspec": {
   "display_name": "Python 3",
   "language": "python",
   "name": "python3"
  },
  "language_info": {
   "codemirror_mode": {
    "name": "ipython",
    "version": 3
   },
   "file_extension": ".py",
   "mimetype": "text/x-python",
   "name": "python",
   "nbconvert_exporter": "python",
   "pygments_lexer": "ipython3",
   "version": "3.11.4"
  },
  "orig_nbformat": 4
 },
 "nbformat": 4,
 "nbformat_minor": 2
}
